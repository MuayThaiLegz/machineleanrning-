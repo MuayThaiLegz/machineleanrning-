{
  "nbformat": 4,
  "nbformat_minor": 0,
  "metadata": {
    "colab": {
      "provenance": [],
      "authorship_tag": "ABX9TyPMTGLR51O/jArti6wnM6MD",
      "include_colab_link": true
    },
    "kernelspec": {
      "name": "python3",
      "display_name": "Python 3"
    },
    "language_info": {
      "name": "python"
    },
    "widgets": {
      "application/vnd.jupyter.widget-state+json": {
        "ddadd02713d84a6f9556864fc824676a": {
          "model_module": "@jupyter-widgets/controls",
          "model_name": "HBoxModel",
          "model_module_version": "1.5.0",
          "state": {
            "_dom_classes": [],
            "_model_module": "@jupyter-widgets/controls",
            "_model_module_version": "1.5.0",
            "_model_name": "HBoxModel",
            "_view_count": null,
            "_view_module": "@jupyter-widgets/controls",
            "_view_module_version": "1.5.0",
            "_view_name": "HBoxView",
            "box_style": "",
            "children": [
              "IPY_MODEL_ea8f5794f9f6472dba0716dd9eb055bc",
              "IPY_MODEL_12e67fa7e84d48e1935e1aa34813e74c",
              "IPY_MODEL_d13e836ceacc4828a70896e44d648745"
            ],
            "layout": "IPY_MODEL_18d8391b7cb448d186046015703bab7c"
          }
        },
        "ea8f5794f9f6472dba0716dd9eb055bc": {
          "model_module": "@jupyter-widgets/controls",
          "model_name": "HTMLModel",
          "model_module_version": "1.5.0",
          "state": {
            "_dom_classes": [],
            "_model_module": "@jupyter-widgets/controls",
            "_model_module_version": "1.5.0",
            "_model_name": "HTMLModel",
            "_view_count": null,
            "_view_module": "@jupyter-widgets/controls",
            "_view_module_version": "1.5.0",
            "_view_name": "HTMLView",
            "description": "",
            "description_tooltip": null,
            "layout": "IPY_MODEL_1cf96ccca95a49d2a57928df05aab17e",
            "placeholder": "​",
            "style": "IPY_MODEL_0b16d57776514dc58a2d8150514a84d4",
            "value": "100%"
          }
        },
        "12e67fa7e84d48e1935e1aa34813e74c": {
          "model_module": "@jupyter-widgets/controls",
          "model_name": "FloatProgressModel",
          "model_module_version": "1.5.0",
          "state": {
            "_dom_classes": [],
            "_model_module": "@jupyter-widgets/controls",
            "_model_module_version": "1.5.0",
            "_model_name": "FloatProgressModel",
            "_view_count": null,
            "_view_module": "@jupyter-widgets/controls",
            "_view_module_version": "1.5.0",
            "_view_name": "ProgressView",
            "bar_style": "success",
            "description": "",
            "description_tooltip": null,
            "layout": "IPY_MODEL_0b4042d5f4c64916835c6e135f1a75a0",
            "max": 100,
            "min": 0,
            "orientation": "horizontal",
            "style": "IPY_MODEL_08a3138032854d7d976d07e08e92a6b4",
            "value": 100
          }
        },
        "d13e836ceacc4828a70896e44d648745": {
          "model_module": "@jupyter-widgets/controls",
          "model_name": "HTMLModel",
          "model_module_version": "1.5.0",
          "state": {
            "_dom_classes": [],
            "_model_module": "@jupyter-widgets/controls",
            "_model_module_version": "1.5.0",
            "_model_name": "HTMLModel",
            "_view_count": null,
            "_view_module": "@jupyter-widgets/controls",
            "_view_module_version": "1.5.0",
            "_view_name": "HTMLView",
            "description": "",
            "description_tooltip": null,
            "layout": "IPY_MODEL_b06a8163682a4b33874f706db23bdb53",
            "placeholder": "​",
            "style": "IPY_MODEL_9fe2f5da03c24a6a80b51c1458b30a95",
            "value": " 100/100 [00:00&lt;00:00, 303.04it/s]"
          }
        },
        "18d8391b7cb448d186046015703bab7c": {
          "model_module": "@jupyter-widgets/base",
          "model_name": "LayoutModel",
          "model_module_version": "1.2.0",
          "state": {
            "_model_module": "@jupyter-widgets/base",
            "_model_module_version": "1.2.0",
            "_model_name": "LayoutModel",
            "_view_count": null,
            "_view_module": "@jupyter-widgets/base",
            "_view_module_version": "1.2.0",
            "_view_name": "LayoutView",
            "align_content": null,
            "align_items": null,
            "align_self": null,
            "border": null,
            "bottom": null,
            "display": null,
            "flex": null,
            "flex_flow": null,
            "grid_area": null,
            "grid_auto_columns": null,
            "grid_auto_flow": null,
            "grid_auto_rows": null,
            "grid_column": null,
            "grid_gap": null,
            "grid_row": null,
            "grid_template_areas": null,
            "grid_template_columns": null,
            "grid_template_rows": null,
            "height": null,
            "justify_content": null,
            "justify_items": null,
            "left": null,
            "margin": null,
            "max_height": null,
            "max_width": null,
            "min_height": null,
            "min_width": null,
            "object_fit": null,
            "object_position": null,
            "order": null,
            "overflow": null,
            "overflow_x": null,
            "overflow_y": null,
            "padding": null,
            "right": null,
            "top": null,
            "visibility": null,
            "width": null
          }
        },
        "1cf96ccca95a49d2a57928df05aab17e": {
          "model_module": "@jupyter-widgets/base",
          "model_name": "LayoutModel",
          "model_module_version": "1.2.0",
          "state": {
            "_model_module": "@jupyter-widgets/base",
            "_model_module_version": "1.2.0",
            "_model_name": "LayoutModel",
            "_view_count": null,
            "_view_module": "@jupyter-widgets/base",
            "_view_module_version": "1.2.0",
            "_view_name": "LayoutView",
            "align_content": null,
            "align_items": null,
            "align_self": null,
            "border": null,
            "bottom": null,
            "display": null,
            "flex": null,
            "flex_flow": null,
            "grid_area": null,
            "grid_auto_columns": null,
            "grid_auto_flow": null,
            "grid_auto_rows": null,
            "grid_column": null,
            "grid_gap": null,
            "grid_row": null,
            "grid_template_areas": null,
            "grid_template_columns": null,
            "grid_template_rows": null,
            "height": null,
            "justify_content": null,
            "justify_items": null,
            "left": null,
            "margin": null,
            "max_height": null,
            "max_width": null,
            "min_height": null,
            "min_width": null,
            "object_fit": null,
            "object_position": null,
            "order": null,
            "overflow": null,
            "overflow_x": null,
            "overflow_y": null,
            "padding": null,
            "right": null,
            "top": null,
            "visibility": null,
            "width": null
          }
        },
        "0b16d57776514dc58a2d8150514a84d4": {
          "model_module": "@jupyter-widgets/controls",
          "model_name": "DescriptionStyleModel",
          "model_module_version": "1.5.0",
          "state": {
            "_model_module": "@jupyter-widgets/controls",
            "_model_module_version": "1.5.0",
            "_model_name": "DescriptionStyleModel",
            "_view_count": null,
            "_view_module": "@jupyter-widgets/base",
            "_view_module_version": "1.2.0",
            "_view_name": "StyleView",
            "description_width": ""
          }
        },
        "0b4042d5f4c64916835c6e135f1a75a0": {
          "model_module": "@jupyter-widgets/base",
          "model_name": "LayoutModel",
          "model_module_version": "1.2.0",
          "state": {
            "_model_module": "@jupyter-widgets/base",
            "_model_module_version": "1.2.0",
            "_model_name": "LayoutModel",
            "_view_count": null,
            "_view_module": "@jupyter-widgets/base",
            "_view_module_version": "1.2.0",
            "_view_name": "LayoutView",
            "align_content": null,
            "align_items": null,
            "align_self": null,
            "border": null,
            "bottom": null,
            "display": null,
            "flex": null,
            "flex_flow": null,
            "grid_area": null,
            "grid_auto_columns": null,
            "grid_auto_flow": null,
            "grid_auto_rows": null,
            "grid_column": null,
            "grid_gap": null,
            "grid_row": null,
            "grid_template_areas": null,
            "grid_template_columns": null,
            "grid_template_rows": null,
            "height": null,
            "justify_content": null,
            "justify_items": null,
            "left": null,
            "margin": null,
            "max_height": null,
            "max_width": null,
            "min_height": null,
            "min_width": null,
            "object_fit": null,
            "object_position": null,
            "order": null,
            "overflow": null,
            "overflow_x": null,
            "overflow_y": null,
            "padding": null,
            "right": null,
            "top": null,
            "visibility": null,
            "width": null
          }
        },
        "08a3138032854d7d976d07e08e92a6b4": {
          "model_module": "@jupyter-widgets/controls",
          "model_name": "ProgressStyleModel",
          "model_module_version": "1.5.0",
          "state": {
            "_model_module": "@jupyter-widgets/controls",
            "_model_module_version": "1.5.0",
            "_model_name": "ProgressStyleModel",
            "_view_count": null,
            "_view_module": "@jupyter-widgets/base",
            "_view_module_version": "1.2.0",
            "_view_name": "StyleView",
            "bar_color": null,
            "description_width": ""
          }
        },
        "b06a8163682a4b33874f706db23bdb53": {
          "model_module": "@jupyter-widgets/base",
          "model_name": "LayoutModel",
          "model_module_version": "1.2.0",
          "state": {
            "_model_module": "@jupyter-widgets/base",
            "_model_module_version": "1.2.0",
            "_model_name": "LayoutModel",
            "_view_count": null,
            "_view_module": "@jupyter-widgets/base",
            "_view_module_version": "1.2.0",
            "_view_name": "LayoutView",
            "align_content": null,
            "align_items": null,
            "align_self": null,
            "border": null,
            "bottom": null,
            "display": null,
            "flex": null,
            "flex_flow": null,
            "grid_area": null,
            "grid_auto_columns": null,
            "grid_auto_flow": null,
            "grid_auto_rows": null,
            "grid_column": null,
            "grid_gap": null,
            "grid_row": null,
            "grid_template_areas": null,
            "grid_template_columns": null,
            "grid_template_rows": null,
            "height": null,
            "justify_content": null,
            "justify_items": null,
            "left": null,
            "margin": null,
            "max_height": null,
            "max_width": null,
            "min_height": null,
            "min_width": null,
            "object_fit": null,
            "object_position": null,
            "order": null,
            "overflow": null,
            "overflow_x": null,
            "overflow_y": null,
            "padding": null,
            "right": null,
            "top": null,
            "visibility": null,
            "width": null
          }
        },
        "9fe2f5da03c24a6a80b51c1458b30a95": {
          "model_module": "@jupyter-widgets/controls",
          "model_name": "DescriptionStyleModel",
          "model_module_version": "1.5.0",
          "state": {
            "_model_module": "@jupyter-widgets/controls",
            "_model_module_version": "1.5.0",
            "_model_name": "DescriptionStyleModel",
            "_view_count": null,
            "_view_module": "@jupyter-widgets/base",
            "_view_module_version": "1.2.0",
            "_view_name": "StyleView",
            "description_width": ""
          }
        }
      }
    }
  },
  "cells": [
    {
      "cell_type": "markdown",
      "metadata": {
        "id": "view-in-github",
        "colab_type": "text"
      },
      "source": [
        "<a href=\"https://colab.research.google.com/github/MuayThaiLegz/machineleanrning-/blob/main/CookingWithAi.ipynb\" target=\"_parent\"><img src=\"https://colab.research.google.com/assets/colab-badge.svg\" alt=\"Open In Colab\"/></a>"
      ]
    },
    {
      "cell_type": "markdown",
      "source": [
        "# This is the first Colab notebook following along with the book Aitificail Inteliligenece with Py Cookbook.\n",
        "\n",
        "I have read the book and will use it plus the github repo to aid my explorations.\n",
        "I intend to add a layer of indivuduality anywhere I can.\n"
      ],
      "metadata": {
        "id": "r3y7pkCYRhQp"
      }
    },
    {
      "cell_type": "code",
      "source": [
        "#!pip install scikit-learn==0.22  # we'll need at least sklearn version 0.22\n",
        "#!pip install tensorflow>=2.0.0  # and we'll use tensorflow version 2.0\n"
      ],
      "metadata": {
        "id": "j7buvcpJR0Km"
      },
      "execution_count": 5,
      "outputs": []
    },
    {
      "cell_type": "code",
      "source": [
        "#!pip install swifter tqdm ray joblib jax jaxlib seaborn numba cython"
      ],
      "metadata": {
        "id": "bjIKN3K8R0kk"
      },
      "execution_count": 6,
      "outputs": []
    },
    {
      "cell_type": "code",
      "source": [
        "#!pip install iPython-autotime"
      ],
      "metadata": {
        "id": "-_o1MG8_Tp4A"
      },
      "execution_count": 1,
      "outputs": []
    },
    {
      "cell_type": "code",
      "source": [
        "%load_ext autotime"
      ],
      "metadata": {
        "colab": {
          "base_uri": "https://localhost:8080/"
        },
        "id": "y3YGNCyKVwEQ",
        "outputId": "6f89e07a-f139-497f-f47a-318019bd805a"
      },
      "execution_count": 2,
      "outputs": [
        {
          "output_type": "stream",
          "name": "stdout",
          "text": [
            "time: 2.58 ms (started: 2023-03-05 02:05:18 +00:00)\n"
          ]
        }
      ]
    },
    {
      "cell_type": "code",
      "source": [
        "%load_ext Cython"
      ],
      "metadata": {
        "colab": {
          "base_uri": "https://localhost:8080/"
        },
        "id": "Dsfw8NfehOO6",
        "outputId": "088c4721-db93-4be3-8034-c95fee12e855"
      },
      "execution_count": 10,
      "outputs": [
        {
          "output_type": "stream",
          "name": "stdout",
          "text": [
            "The Cython extension is already loaded. To reload it, use:\n",
            "  %reload_ext Cython\n",
            "time: 2.38 ms (started: 2023-03-05 02:06:16 +00:00)\n"
          ]
        }
      ]
    },
    {
      "cell_type": "code",
      "source": [
        "%%cython\n"
      ],
      "metadata": {
        "colab": {
          "base_uri": "https://localhost:8080/"
        },
        "id": "apjq9oFChL5U",
        "outputId": "35fbbaf9-3fcc-400f-883b-1301ee0fbb3a"
      },
      "execution_count": 11,
      "outputs": [
        {
          "output_type": "stream",
          "name": "stdout",
          "text": [
            "time: 1.77 ms (started: 2023-03-05 02:06:19 +00:00)\n"
          ]
        },
        {
          "output_type": "stream",
          "name": "stderr",
          "text": [
            "UsageError: %%cython is a cell magic, but the cell body is empty.\n"
          ]
        }
      ]
    },
    {
      "cell_type": "code",
      "source": [
        "from tqdm.notebook import trange, tqdm\n",
        "tqdm.pandas()\n"
      ],
      "metadata": {
        "colab": {
          "base_uri": "https://localhost:8080/"
        },
        "id": "POXzvgJjWFnR",
        "outputId": "6f0e9b4e-ca28-46dd-97b4-b6011ca56e06"
      },
      "execution_count": 13,
      "outputs": [
        {
          "output_type": "stream",
          "name": "stdout",
          "text": [
            "time: 1.56 ms (started: 2023-03-05 02:06:22 +00:00)\n"
          ]
        }
      ]
    },
    {
      "cell_type": "code",
      "source": [
        "import seaborn as sns; sns.set(style=\"ticks\", color_codes=True)\n",
        "\n",
        "# one of the conveniences that it is such a well-known dataset is that we can easily load it from many packages.\n",
        "iris = sns.load_dataset('iris')\n",
        "# \n",
        "g = sns.pairplot(iris, hue='species')"
      ],
      "metadata": {
        "colab": {
          "base_uri": "https://localhost:8080/",
          "height": 741
        },
        "id": "CWOO5s1IX0dh",
        "outputId": "033d5ce9-eaec-412c-c450-4454b81a7d1b"
      },
      "execution_count": 54,
      "outputs": [
        {
          "output_type": "display_data",
          "data": {
            "text/plain": [
              "<Figure size 813.85x720 with 20 Axes>"
            ],
            "image/png": "[encoded data removed]"
          },
          "metadata": {}
        },
        {
          "output_type": "stream",
          "name": "stdout",
          "text": [
            "time: 14.3 s (started: 2023-03-05 01:34:36 +00:00)\n"
          ]
        }
      ]
    },
    {
      "cell_type": "code",
      "source": [
        "\n",
        "# just for illustration purposes\n",
        "classes = {'setosa': 0, 'versicolor': 1, 'virginica': 2}\n",
        "X = iris[['sepal_length', 'sepal_width',\t'petal_length',\t'petal_width']].values\n",
        "y = iris['species'].apply(lambda x: classes[x]).values"
      ],
      "metadata": {
        "colab": {
          "base_uri": "https://localhost:8080/"
        },
        "id": "ijvuFEWTaAwK",
        "outputId": "cdb1961f-16a6-4c39-d94c-5c6432d3fc66"
      },
      "execution_count": 55,
      "outputs": [
        {
          "output_type": "stream",
          "name": "stdout",
          "text": [
            "time: 20.7 ms (started: 2023-03-05 01:35:35 +00:00)\n"
          ]
        }
      ]
    },
    {
      "cell_type": "code",
      "source": [
        "from sklearn.ensemble import RandomForestClassifier\n",
        "from sklearn.model_selection import train_test_split\n",
        "\n",
        "X_train, X_test, y_train, y_test = train_test_split(\n",
        "    X, y, test_size=0.33, random_state=0\n",
        ")\n",
        "\n",
        "params = dict(\n",
        "    max_depth=20,\n",
        "    random_state=0,\n",
        "    n_estimators=100,\n",
        ")\n",
        "clf = RandomForestClassifier(**params)\n",
        "\n",
        "# for training we use the fit method available for all sklearn-compatible models\n",
        "clf.fit(X_train, y_train)"
      ],
      "metadata": {
        "colab": {
          "base_uri": "https://localhost:8080/"
        },
        "id": "qbibzkAoaPBS",
        "outputId": "b4895ea8-725b-45b4-f1f8-596ed9debe2e"
      },
      "execution_count": 58,
      "outputs": [
        {
          "output_type": "execute_result",
          "data": {
            "text/plain": [
              "RandomForestClassifier(bootstrap=True, ccp_alpha=0.0, class_weight=None,\n",
              "                       criterion='gini', max_depth=20, max_features='auto',\n",
              "                       max_leaf_nodes=None, max_samples=None,\n",
              "                       min_impurity_decrease=0.0, min_impurity_split=None,\n",
              "                       min_samples_leaf=1, min_samples_split=2,\n",
              "                       min_weight_fraction_leaf=0.0, n_estimators=100,\n",
              "                       n_jobs=None, oob_score=False, random_state=0, verbose=0,\n",
              "                       warm_start=False)"
            ]
          },
          "metadata": {},
          "execution_count": 58
        },
        {
          "output_type": "stream",
          "name": "stdout",
          "text": [
            "time: 542 ms (started: 2023-03-05 01:45:06 +00:00)\n"
          ]
        }
      ]
    },
    {
      "cell_type": "code",
      "source": [
        "from sklearn.metrics import plot_confusion_matrix\n",
        "plot_confusion_matrix(\n",
        "    clf, X_test, y_test,\n",
        "    display_labels=['setosa', 'versicolor', 'virginica'],\n",
        "    normalize='true'\n",
        ")"
      ],
      "metadata": {
        "colab": {
          "base_uri": "https://localhost:8080/",
          "height": 324
        },
        "id": "av2LKVHgcZu4",
        "outputId": "8cb0955f-0cda-407e-d719-bd5ca657003b"
      },
      "execution_count": 59,
      "outputs": [
        {
          "output_type": "execute_result",
          "data": {
            "text/plain": [
              "<sklearn.metrics._plot.confusion_matrix.ConfusionMatrixDisplay at 0x7f9850b526d0>"
            ]
          },
          "metadata": {},
          "execution_count": 59
        },
        {
          "output_type": "display_data",
          "data": {
            "text/plain": [
              "<Figure size 432x288 with 2 Axes>"
            ],
            "image/png": "[encoded data removed]"
          },
          "metadata": {}
        },
        {
          "output_type": "stream",
          "name": "stdout",
          "text": [
            "time: 480 ms (started: 2023-03-05 01:45:21 +00:00)\n"
          ]
        }
      ]
    },
    {
      "cell_type": "code",
      "source": [
        "from tensorflow.keras.models import Sequential\n",
        "from tensorflow.keras.layers import Dense\n",
        "import tensorflow as tf\n",
        "\n",
        "\n",
        "def create_iris_model():\n",
        "    '''\n",
        "    Create the iris classification model\n",
        "    '''\n",
        "    iris_model = Sequential()\n",
        "    iris_model.add(Dense(10, activation='selu', input_dim=4))\n",
        "    iris_model.add(Dense(3, activation='softmax'))\n",
        "    iris_model.compile(\n",
        "        optimizer='rmsprop',\n",
        "        loss='binary_crossentropy',\n",
        "        metrics=['accuracy']\n",
        "    )\n",
        "    iris_model.summary()\n",
        "    return iris_model\n",
        "\n",
        "iris_model = create_iris_model()"
      ],
      "metadata": {
        "colab": {
          "base_uri": "https://localhost:8080/"
        },
        "id": "KUUB0nJiceLi",
        "outputId": "bbca65d2-9877-4128-cfc8-5ed5513e339c"
      },
      "execution_count": 60,
      "outputs": [
        {
          "output_type": "stream",
          "name": "stdout",
          "text": [
            "Model: \"sequential\"\n",
            "_________________________________________________________________\n",
            " Layer (type)                Output Shape              Param #   \n",
            "=================================================================\n",
            " dense (Dense)               (None, 10)                50        \n",
            "                                                                 \n",
            " dense_1 (Dense)             (None, 3)                 33        \n",
            "                                                                 \n",
            "=================================================================\n",
            "Total params: 83\n",
            "Trainable params: 83\n",
            "Non-trainable params: 0\n",
            "_________________________________________________________________\n",
            "time: 7.14 s (started: 2023-03-05 01:45:41 +00:00)\n"
          ]
        }
      ]
    },
    {
      "cell_type": "code",
      "source": [
        "dot = tf.keras.utils.model_to_dot(\n",
        "    iris_model,\n",
        "    show_shapes=True,\n",
        "    \n",
        ")"
      ],
      "metadata": {
        "id": "Ok6O3cN_fdLB"
      },
      "execution_count": null,
      "outputs": []
    },
    {
      "cell_type": "code",
      "source": [
        "y_categorical = tf.keras.utils.to_categorical(y, 3)\n",
        "\n",
        "# For a neural network, we should also have standardized inputs, preferably with mean 0 and standard deviation 1.\n",
        "X = (X - X.mean(axis=0)) / X.std(axis=0)"
      ],
      "metadata": {
        "colab": {
          "base_uri": "https://localhost:8080/"
        },
        "id": "QdN2gmeVcjQs",
        "outputId": "25468127-7f87-4fdf-a80b-da30081f4fd1"
      },
      "execution_count": 62,
      "outputs": [
        {
          "output_type": "stream",
          "name": "stdout",
          "text": [
            "time: 2.51 ms (started: 2023-03-05 01:46:23 +00:00)\n"
          ]
        }
      ]
    },
    {
      "cell_type": "code",
      "source": [
        "X_train, X_test, train, test = train_test_split(\n",
        "    X, y_categorical, test_size=0.30, random_state=0\n",
        ")\n",
        "\n",
        "X_train, X_test, train, test = train_test_split(train, test)"
      ],
      "metadata": {
        "colab": {
          "base_uri": "https://localhost:8080/"
        },
        "id": "y9-oJ-GDdKsO",
        "outputId": "1eb8e27f-45ad-4e85-942e-bd47ab7c9645"
      },
      "execution_count": 66,
      "outputs": [
        {
          "output_type": "stream",
          "name": "stdout",
          "text": [
            "time: 2.34 ms (started: 2023-03-05 01:48:46 +00:00)\n"
          ]
        }
      ]
    },
    {
      "cell_type": "code",
      "source": [
        "iris_model.fit(x=X_train, y=y_train, epochs=150)"
      ],
      "metadata": {
        "colab": {
          "base_uri": "https://localhost:8080/"
        },
        "id": "o4MY5iJTdQXz",
        "outputId": "75690f68-034f-4fdf-cfec-9aa0006b2981"
      },
      "execution_count": 67,
      "outputs": [
        {
          "output_type": "stream",
          "name": "stdout",
          "text": [
            "Epoch 1/150\n",
            "4/4 [==============================] - 1s 5ms/step - loss: 0.6178 - accuracy: 0.6400\n",
            "Epoch 2/150\n",
            "4/4 [==============================] - 0s 3ms/step - loss: 0.5924 - accuracy: 0.6700\n",
            "Epoch 3/150\n",
            "4/4 [==============================] - 0s 3ms/step - loss: 0.5771 - accuracy: 0.6700\n",
            "Epoch 4/150\n",
            "4/4 [==============================] - 0s 3ms/step - loss: 0.5616 - accuracy: 0.6900\n",
            "Epoch 5/150\n",
            "4/4 [==============================] - 0s 4ms/step - loss: 0.5490 - accuracy: 0.6900\n",
            "Epoch 6/150\n",
            "4/4 [==============================] - 0s 7ms/step - loss: 0.5393 - accuracy: 0.7000\n",
            "Epoch 7/150\n",
            "4/4 [==============================] - 0s 4ms/step - loss: 0.5288 - accuracy: 0.7200\n",
            "Epoch 8/150\n",
            "4/4 [==============================] - 0s 4ms/step - loss: 0.5188 - accuracy: 0.7500\n",
            "Epoch 9/150\n",
            "4/4 [==============================] - 0s 4ms/step - loss: 0.5090 - accuracy: 0.7500\n",
            "Epoch 10/150\n",
            "4/4 [==============================] - 0s 3ms/step - loss: 0.4992 - accuracy: 0.7500\n",
            "Epoch 11/150\n",
            "4/4 [==============================] - 0s 4ms/step - loss: 0.4897 - accuracy: 0.7500\n",
            "Epoch 12/150\n",
            "4/4 [==============================] - 0s 3ms/step - loss: 0.4794 - accuracy: 0.7800\n",
            "Epoch 13/150\n",
            "4/4 [==============================] - 0s 4ms/step - loss: 0.4702 - accuracy: 0.7800\n",
            "Epoch 14/150\n",
            "4/4 [==============================] - 0s 3ms/step - loss: 0.4617 - accuracy: 0.7800\n",
            "Epoch 15/150\n",
            "4/4 [==============================] - 0s 3ms/step - loss: 0.4547 - accuracy: 0.7800\n",
            "Epoch 16/150\n",
            "4/4 [==============================] - 0s 4ms/step - loss: 0.4463 - accuracy: 0.7800\n",
            "Epoch 17/150\n",
            "4/4 [==============================] - 0s 4ms/step - loss: 0.4392 - accuracy: 0.8000\n",
            "Epoch 18/150\n",
            "4/4 [==============================] - 0s 3ms/step - loss: 0.4326 - accuracy: 0.8000\n",
            "Epoch 19/150\n",
            "4/4 [==============================] - 0s 4ms/step - loss: 0.4253 - accuracy: 0.8200\n",
            "Epoch 20/150\n",
            "4/4 [==============================] - 0s 4ms/step - loss: 0.4192 - accuracy: 0.8200\n",
            "Epoch 21/150\n",
            "4/4 [==============================] - 0s 4ms/step - loss: 0.4143 - accuracy: 0.8200\n",
            "Epoch 22/150\n",
            "4/4 [==============================] - 0s 3ms/step - loss: 0.4083 - accuracy: 0.8200\n",
            "Epoch 23/150\n",
            "4/4 [==============================] - 0s 3ms/step - loss: 0.4029 - accuracy: 0.8600\n",
            "Epoch 24/150\n",
            "4/4 [==============================] - 0s 4ms/step - loss: 0.3973 - accuracy: 0.8700\n",
            "Epoch 25/150\n",
            "4/4 [==============================] - 0s 3ms/step - loss: 0.3911 - accuracy: 0.8700\n",
            "Epoch 26/150\n",
            "4/4 [==============================] - 0s 3ms/step - loss: 0.3858 - accuracy: 0.8800\n",
            "Epoch 27/150\n",
            "4/4 [==============================] - 0s 3ms/step - loss: 0.3811 - accuracy: 0.8600\n",
            "Epoch 28/150\n",
            "4/4 [==============================] - 0s 3ms/step - loss: 0.3766 - accuracy: 0.8700\n",
            "Epoch 29/150\n",
            "4/4 [==============================] - 0s 5ms/step - loss: 0.3721 - accuracy: 0.8700\n",
            "Epoch 30/150\n",
            "4/4 [==============================] - 0s 3ms/step - loss: 0.3672 - accuracy: 0.8600\n",
            "Epoch 31/150\n",
            "4/4 [==============================] - 0s 4ms/step - loss: 0.3625 - accuracy: 0.8700\n",
            "Epoch 32/150\n",
            "4/4 [==============================] - 0s 4ms/step - loss: 0.3582 - accuracy: 0.8700\n",
            "Epoch 33/150\n",
            "4/4 [==============================] - 0s 4ms/step - loss: 0.3541 - accuracy: 0.8700\n",
            "Epoch 34/150\n",
            "4/4 [==============================] - 0s 3ms/step - loss: 0.3496 - accuracy: 0.8700\n",
            "Epoch 35/150\n",
            "4/4 [==============================] - 0s 6ms/step - loss: 0.3456 - accuracy: 0.8700\n",
            "Epoch 36/150\n",
            "4/4 [==============================] - 0s 4ms/step - loss: 0.3416 - accuracy: 0.8700\n",
            "Epoch 37/150\n",
            "4/4 [==============================] - 0s 3ms/step - loss: 0.3383 - accuracy: 0.8700\n",
            "Epoch 38/150\n",
            "4/4 [==============================] - 0s 4ms/step - loss: 0.3345 - accuracy: 0.8700\n",
            "Epoch 39/150\n",
            "4/4 [==============================] - 0s 4ms/step - loss: 0.3314 - accuracy: 0.8700\n",
            "Epoch 40/150\n",
            "4/4 [==============================] - 0s 4ms/step - loss: 0.3279 - accuracy: 0.8700\n",
            "Epoch 41/150\n",
            "4/4 [==============================] - 0s 4ms/step - loss: 0.3246 - accuracy: 0.8800\n",
            "Epoch 42/150\n",
            "4/4 [==============================] - 0s 3ms/step - loss: 0.3213 - accuracy: 0.8800\n",
            "Epoch 43/150\n",
            "4/4 [==============================] - 0s 3ms/step - loss: 0.3183 - accuracy: 0.8800\n",
            "Epoch 44/150\n",
            "4/4 [==============================] - 0s 3ms/step - loss: 0.3154 - accuracy: 0.8700\n",
            "Epoch 45/150\n",
            "4/4 [==============================] - 0s 3ms/step - loss: 0.3125 - accuracy: 0.8900\n",
            "Epoch 46/150\n",
            "4/4 [==============================] - 0s 3ms/step - loss: 0.3099 - accuracy: 0.8800\n",
            "Epoch 47/150\n",
            "4/4 [==============================] - 0s 3ms/step - loss: 0.3073 - accuracy: 0.8900\n",
            "Epoch 48/150\n",
            "4/4 [==============================] - 0s 3ms/step - loss: 0.3054 - accuracy: 0.8800\n",
            "Epoch 49/150\n",
            "4/4 [==============================] - 0s 4ms/step - loss: 0.3030 - accuracy: 0.8800\n",
            "Epoch 50/150\n",
            "4/4 [==============================] - 0s 3ms/step - loss: 0.3004 - accuracy: 0.8800\n",
            "Epoch 51/150\n",
            "4/4 [==============================] - 0s 6ms/step - loss: 0.2981 - accuracy: 0.8900\n",
            "Epoch 52/150\n",
            "4/4 [==============================] - 0s 4ms/step - loss: 0.2964 - accuracy: 0.8800\n",
            "Epoch 53/150\n",
            "4/4 [==============================] - 0s 4ms/step - loss: 0.2942 - accuracy: 0.8800\n",
            "Epoch 54/150\n",
            "4/4 [==============================] - 0s 3ms/step - loss: 0.2921 - accuracy: 0.8900\n",
            "Epoch 55/150\n",
            "4/4 [==============================] - 0s 4ms/step - loss: 0.2902 - accuracy: 0.8900\n",
            "Epoch 56/150\n",
            "4/4 [==============================] - 0s 3ms/step - loss: 0.2884 - accuracy: 0.8900\n",
            "Epoch 57/150\n",
            "4/4 [==============================] - 0s 3ms/step - loss: 0.2864 - accuracy: 0.8900\n",
            "Epoch 58/150\n",
            "4/4 [==============================] - 0s 3ms/step - loss: 0.2847 - accuracy: 0.8900\n",
            "Epoch 59/150\n",
            "4/4 [==============================] - 0s 3ms/step - loss: 0.2827 - accuracy: 0.8900\n",
            "Epoch 60/150\n",
            "4/4 [==============================] - 0s 3ms/step - loss: 0.2809 - accuracy: 0.8800\n",
            "Epoch 61/150\n",
            "4/4 [==============================] - 0s 3ms/step - loss: 0.2790 - accuracy: 0.8800\n",
            "Epoch 62/150\n",
            "4/4 [==============================] - 0s 4ms/step - loss: 0.2774 - accuracy: 0.8800\n",
            "Epoch 63/150\n",
            "4/4 [==============================] - 0s 4ms/step - loss: 0.2760 - accuracy: 0.8800\n",
            "Epoch 64/150\n",
            "4/4 [==============================] - 0s 3ms/step - loss: 0.2747 - accuracy: 0.8800\n",
            "Epoch 65/150\n",
            "4/4 [==============================] - 0s 4ms/step - loss: 0.2736 - accuracy: 0.8700\n",
            "Epoch 66/150\n",
            "4/4 [==============================] - 0s 4ms/step - loss: 0.2725 - accuracy: 0.8700\n",
            "Epoch 67/150\n",
            "4/4 [==============================] - 0s 3ms/step - loss: 0.2712 - accuracy: 0.8700\n",
            "Epoch 68/150\n",
            "4/4 [==============================] - 0s 3ms/step - loss: 0.2699 - accuracy: 0.8800\n",
            "Epoch 69/150\n",
            "4/4 [==============================] - 0s 5ms/step - loss: 0.2686 - accuracy: 0.8800\n",
            "Epoch 70/150\n",
            "4/4 [==============================] - 0s 7ms/step - loss: 0.2673 - accuracy: 0.8800\n",
            "Epoch 71/150\n",
            "4/4 [==============================] - 0s 4ms/step - loss: 0.2659 - accuracy: 0.8800\n",
            "Epoch 72/150\n",
            "4/4 [==============================] - 0s 4ms/step - loss: 0.2646 - accuracy: 0.8800\n",
            "Epoch 73/150\n",
            "4/4 [==============================] - 0s 4ms/step - loss: 0.2634 - accuracy: 0.8800\n",
            "Epoch 74/150\n",
            "4/4 [==============================] - 0s 4ms/step - loss: 0.2621 - accuracy: 0.8800\n",
            "Epoch 75/150\n",
            "4/4 [==============================] - 0s 3ms/step - loss: 0.2610 - accuracy: 0.8800\n",
            "Epoch 76/150\n",
            "4/4 [==============================] - 0s 4ms/step - loss: 0.2596 - accuracy: 0.8800\n",
            "Epoch 77/150\n",
            "4/4 [==============================] - 0s 3ms/step - loss: 0.2587 - accuracy: 0.8800\n",
            "Epoch 78/150\n",
            "4/4 [==============================] - 0s 4ms/step - loss: 0.2575 - accuracy: 0.8800\n",
            "Epoch 79/150\n",
            "4/4 [==============================] - 0s 3ms/step - loss: 0.2563 - accuracy: 0.8800\n",
            "Epoch 80/150\n",
            "4/4 [==============================] - 0s 3ms/step - loss: 0.2550 - accuracy: 0.8800\n",
            "Epoch 81/150\n",
            "4/4 [==============================] - 0s 3ms/step - loss: 0.2542 - accuracy: 0.8800\n",
            "Epoch 82/150\n",
            "4/4 [==============================] - 0s 3ms/step - loss: 0.2530 - accuracy: 0.8800\n",
            "Epoch 83/150\n",
            "4/4 [==============================] - 0s 3ms/step - loss: 0.2521 - accuracy: 0.8800\n",
            "Epoch 84/150\n",
            "4/4 [==============================] - 0s 3ms/step - loss: 0.2512 - accuracy: 0.8800\n",
            "Epoch 85/150\n",
            "4/4 [==============================] - 0s 3ms/step - loss: 0.2504 - accuracy: 0.8800\n",
            "Epoch 86/150\n",
            "4/4 [==============================] - 0s 3ms/step - loss: 0.2493 - accuracy: 0.8800\n",
            "Epoch 87/150\n",
            "4/4 [==============================] - 0s 3ms/step - loss: 0.2481 - accuracy: 0.8800\n",
            "Epoch 88/150\n",
            "4/4 [==============================] - 0s 4ms/step - loss: 0.2474 - accuracy: 0.8900\n",
            "Epoch 89/150\n",
            "4/4 [==============================] - 0s 4ms/step - loss: 0.2465 - accuracy: 0.8900\n",
            "Epoch 90/150\n",
            "4/4 [==============================] - 0s 3ms/step - loss: 0.2456 - accuracy: 0.8900\n",
            "Epoch 91/150\n",
            "4/4 [==============================] - 0s 3ms/step - loss: 0.2447 - accuracy: 0.8900\n",
            "Epoch 92/150\n",
            "4/4 [==============================] - 0s 3ms/step - loss: 0.2438 - accuracy: 0.8900\n",
            "Epoch 93/150\n",
            "4/4 [==============================] - 0s 4ms/step - loss: 0.2426 - accuracy: 0.8900\n",
            "Epoch 94/150\n",
            "4/4 [==============================] - 0s 4ms/step - loss: 0.2417 - accuracy: 0.8900\n",
            "Epoch 95/150\n",
            "4/4 [==============================] - 0s 4ms/step - loss: 0.2409 - accuracy: 0.8900\n",
            "Epoch 96/150\n",
            "4/4 [==============================] - 0s 4ms/step - loss: 0.2402 - accuracy: 0.8900\n",
            "Epoch 97/150\n",
            "4/4 [==============================] - 0s 5ms/step - loss: 0.2394 - accuracy: 0.8900\n",
            "Epoch 98/150\n",
            "4/4 [==============================] - 0s 4ms/step - loss: 0.2385 - accuracy: 0.8900\n",
            "Epoch 99/150\n",
            "4/4 [==============================] - 0s 4ms/step - loss: 0.2377 - accuracy: 0.8900\n",
            "Epoch 100/150\n",
            "4/4 [==============================] - 0s 3ms/step - loss: 0.2369 - accuracy: 0.8900\n",
            "Epoch 101/150\n",
            "4/4 [==============================] - 0s 4ms/step - loss: 0.2362 - accuracy: 0.8900\n",
            "Epoch 102/150\n",
            "4/4 [==============================] - 0s 4ms/step - loss: 0.2354 - accuracy: 0.8900\n",
            "Epoch 103/150\n",
            "4/4 [==============================] - 0s 5ms/step - loss: 0.2346 - accuracy: 0.8900\n",
            "Epoch 104/150\n",
            "4/4 [==============================] - 0s 4ms/step - loss: 0.2338 - accuracy: 0.8900\n",
            "Epoch 105/150\n",
            "4/4 [==============================] - 0s 5ms/step - loss: 0.2328 - accuracy: 0.8900\n",
            "Epoch 106/150\n",
            "4/4 [==============================] - 0s 4ms/step - loss: 0.2318 - accuracy: 0.8900\n",
            "Epoch 107/150\n",
            "4/4 [==============================] - 0s 4ms/step - loss: 0.2310 - accuracy: 0.8900\n",
            "Epoch 108/150\n",
            "4/4 [==============================] - 0s 3ms/step - loss: 0.2302 - accuracy: 0.8900\n",
            "Epoch 109/150\n",
            "4/4 [==============================] - 0s 3ms/step - loss: 0.2294 - accuracy: 0.8900\n",
            "Epoch 110/150\n",
            "4/4 [==============================] - 0s 3ms/step - loss: 0.2285 - accuracy: 0.8900\n",
            "Epoch 111/150\n",
            "4/4 [==============================] - 0s 3ms/step - loss: 0.2277 - accuracy: 0.8900\n",
            "Epoch 112/150\n",
            "4/4 [==============================] - 0s 4ms/step - loss: 0.2270 - accuracy: 0.8900\n",
            "Epoch 113/150\n",
            "4/4 [==============================] - 0s 3ms/step - loss: 0.2261 - accuracy: 0.8900\n",
            "Epoch 114/150\n",
            "4/4 [==============================] - 0s 4ms/step - loss: 0.2255 - accuracy: 0.8900\n",
            "Epoch 115/150\n",
            "4/4 [==============================] - 0s 6ms/step - loss: 0.2246 - accuracy: 0.8900\n",
            "Epoch 116/150\n",
            "4/4 [==============================] - 0s 4ms/step - loss: 0.2239 - accuracy: 0.8900\n",
            "Epoch 117/150\n",
            "4/4 [==============================] - 0s 3ms/step - loss: 0.2232 - accuracy: 0.8900\n",
            "Epoch 118/150\n",
            "4/4 [==============================] - 0s 3ms/step - loss: 0.2224 - accuracy: 0.8900\n",
            "Epoch 119/150\n",
            "4/4 [==============================] - 0s 4ms/step - loss: 0.2217 - accuracy: 0.8900\n",
            "Epoch 120/150\n",
            "4/4 [==============================] - 0s 4ms/step - loss: 0.2210 - accuracy: 0.8900\n",
            "Epoch 121/150\n",
            "4/4 [==============================] - 0s 4ms/step - loss: 0.2202 - accuracy: 0.8900\n",
            "Epoch 122/150\n",
            "4/4 [==============================] - 0s 4ms/step - loss: 0.2195 - accuracy: 0.8900\n",
            "Epoch 123/150\n",
            "4/4 [==============================] - 0s 4ms/step - loss: 0.2187 - accuracy: 0.8900\n",
            "Epoch 124/150\n",
            "4/4 [==============================] - 0s 4ms/step - loss: 0.2180 - accuracy: 0.8900\n",
            "Epoch 125/150\n",
            "4/4 [==============================] - 0s 4ms/step - loss: 0.2173 - accuracy: 0.9000\n",
            "Epoch 126/150\n",
            "4/4 [==============================] - 0s 4ms/step - loss: 0.2167 - accuracy: 0.9000\n",
            "Epoch 127/150\n",
            "4/4 [==============================] - 0s 4ms/step - loss: 0.2161 - accuracy: 0.9000\n",
            "Epoch 128/150\n",
            "4/4 [==============================] - 0s 3ms/step - loss: 0.2154 - accuracy: 0.9000\n",
            "Epoch 129/150\n",
            "4/4 [==============================] - 0s 4ms/step - loss: 0.2148 - accuracy: 0.9000\n",
            "Epoch 130/150\n",
            "4/4 [==============================] - 0s 4ms/step - loss: 0.2140 - accuracy: 0.9000\n",
            "Epoch 131/150\n",
            "4/4 [==============================] - 0s 5ms/step - loss: 0.2133 - accuracy: 0.9000\n",
            "Epoch 132/150\n",
            "4/4 [==============================] - 0s 4ms/step - loss: 0.2127 - accuracy: 0.9000\n",
            "Epoch 133/150\n",
            "4/4 [==============================] - 0s 4ms/step - loss: 0.2124 - accuracy: 0.9000\n",
            "Epoch 134/150\n",
            "4/4 [==============================] - 0s 4ms/step - loss: 0.2116 - accuracy: 0.9000\n",
            "Epoch 135/150\n",
            "4/4 [==============================] - 0s 5ms/step - loss: 0.2111 - accuracy: 0.9000\n",
            "Epoch 136/150\n",
            "4/4 [==============================] - 0s 4ms/step - loss: 0.2105 - accuracy: 0.9000\n",
            "Epoch 137/150\n",
            "4/4 [==============================] - 0s 3ms/step - loss: 0.2099 - accuracy: 0.9000\n",
            "Epoch 138/150\n",
            "4/4 [==============================] - 0s 3ms/step - loss: 0.2092 - accuracy: 0.9000\n",
            "Epoch 139/150\n",
            "4/4 [==============================] - 0s 3ms/step - loss: 0.2085 - accuracy: 0.9000\n",
            "Epoch 140/150\n",
            "4/4 [==============================] - 0s 4ms/step - loss: 0.2079 - accuracy: 0.9000\n",
            "Epoch 141/150\n",
            "4/4 [==============================] - 0s 4ms/step - loss: 0.2073 - accuracy: 0.9000\n",
            "Epoch 142/150\n",
            "4/4 [==============================] - 0s 4ms/step - loss: 0.2066 - accuracy: 0.9000\n",
            "Epoch 143/150\n",
            "4/4 [==============================] - 0s 3ms/step - loss: 0.2060 - accuracy: 0.9000\n",
            "Epoch 144/150\n",
            "4/4 [==============================] - 0s 4ms/step - loss: 0.2055 - accuracy: 0.9000\n",
            "Epoch 145/150\n",
            "4/4 [==============================] - 0s 4ms/step - loss: 0.2052 - accuracy: 0.9000\n",
            "Epoch 146/150\n",
            "4/4 [==============================] - 0s 4ms/step - loss: 0.2043 - accuracy: 0.9000\n",
            "Epoch 147/150\n",
            "4/4 [==============================] - 0s 4ms/step - loss: 0.2039 - accuracy: 0.9000\n",
            "Epoch 148/150\n",
            "4/4 [==============================] - 0s 4ms/step - loss: 0.2033 - accuracy: 0.9000\n",
            "Epoch 149/150\n",
            "4/4 [==============================] - 0s 4ms/step - loss: 0.2028 - accuracy: 0.9000\n",
            "Epoch 150/150\n",
            "4/4 [==============================] - 0s 4ms/step - loss: 0.2025 - accuracy: 0.9000\n"
          ]
        },
        {
          "output_type": "execute_result",
          "data": {
            "text/plain": [
              "<keras.callbacks.History at 0x7f97e6f03af0>"
            ]
          },
          "metadata": {},
          "execution_count": 67
        },
        {
          "output_type": "stream",
          "name": "stdout",
          "text": [
            "time: 6.57 s (started: 2023-03-05 01:49:02 +00:00)\n"
          ]
        }
      ]
    },
    {
      "cell_type": "code",
      "source": [
        "\n",
        "\n",
        "class SklearnWrapper:\n",
        "  _estimator_type = 'classifier'\n",
        "  def __init__(self, model, classes_):\n",
        "    self.model = model\n",
        "    self.classes_ = classes_\n",
        "    \n",
        "  def predict(self, data):\n",
        "    result = self.model.predict(data).argmax(axis=1)\n",
        "    return result\n",
        "\n",
        "model_wrapper = SklearnWrapper(iris_model, ['setosa', 'versicolor', 'virginica'])\n"
      ],
      "metadata": {
        "colab": {
          "base_uri": "https://localhost:8080/"
        },
        "id": "E-Qhd3-ldUU7",
        "outputId": "db32a30e-1052-470e-f984-8a99e8bb21b5"
      },
      "execution_count": 68,
      "outputs": [
        {
          "output_type": "stream",
          "name": "stdout",
          "text": [
            "time: 2.2 ms (started: 2023-03-05 01:50:02 +00:00)\n"
          ]
        }
      ]
    },
    {
      "cell_type": "code",
      "source": [
        "plot_confusion_matrix(\n",
        "    model_wrapper, X_test, y_test.argmax(axis=1),\n",
        "    display_labels=['setosa', 'versicolor', 'virginica'],\n",
        "    normalize='true'\n",
        ")"
      ],
      "metadata": {
        "colab": {
          "base_uri": "https://localhost:8080/",
          "height": 341
        },
        "id": "f0j4_JCRdiy0",
        "outputId": "81f96d56-d4fd-44fd-a0ec-33b29b53a0db"
      },
      "execution_count": 69,
      "outputs": [
        {
          "output_type": "stream",
          "name": "stdout",
          "text": [
            "2/2 [==============================] - 0s 6ms/step\n"
          ]
        },
        {
          "output_type": "execute_result",
          "data": {
            "text/plain": [
              "<sklearn.metrics._plot.confusion_matrix.ConfusionMatrixDisplay at 0x7f97e4f57ca0>"
            ]
          },
          "metadata": {},
          "execution_count": 69
        },
        {
          "output_type": "display_data",
          "data": {
            "text/plain": [
              "<Figure size 432x288 with 2 Axes>"
            ],
            "image/png": "[encoded data removed]"
          },
          "metadata": {}
        },
        {
          "output_type": "stream",
          "name": "stdout",
          "text": [
            "time: 784 ms (started: 2023-03-05 01:50:24 +00:00)\n"
          ]
        }
      ]
    },
    {
      "cell_type": "code",
      "source": [
        "# PYTORCH"
      ],
      "metadata": {
        "colab": {
          "base_uri": "https://localhost:8080/"
        },
        "id": "emq2u-CPhrmG",
        "outputId": "dd56691d-a4dc-4fe5-ae43-806c2c8c378c"
      },
      "execution_count": 14,
      "outputs": [
        {
          "output_type": "stream",
          "name": "stdout",
          "text": [
            "time: 648 µs (started: 2023-03-05 02:08:13 +00:00)\n"
          ]
        }
      ]
    },
    {
      "cell_type": "code",
      "source": [
        "import torch\n",
        "import torch.nn as nn\n",
        "from torch.autograd import Variable\n",
        "\n",
        "\n",
        "iris_model = torch.nn.Sequential(\n",
        "  nn.Linear(4, 10),  # equivalent to Dense in keras\n",
        "  nn.SELU(),\n",
        "  nn.Linear(10, 3),\n",
        "  nn.Softmax(dim=1)\n",
        ")\n",
        "\n",
        "\n"
      ],
      "metadata": {
        "colab": {
          "base_uri": "https://localhost:8080/"
        },
        "id": "3kHeNZvXdoIA",
        "outputId": "5b274455-e029-462d-b0e6-38239743e07c"
      },
      "execution_count": 82,
      "outputs": [
        {
          "output_type": "stream",
          "name": "stdout",
          "text": [
            "time: 5.65 ms (started: 2023-03-05 02:04:28 +00:00)\n"
          ]
        }
      ]
    },
    {
      "cell_type": "code",
      "source": [
        "\n",
        "\n",
        "X_train = Variable(torch.Tensor(X_train).float())\n",
        "y_train = Variable(torch.Tensor(y_train.argmax(axis=1)).long())\n",
        "X_test = Variable(torch.Tensor(X_test).float())\n",
        "y_test = Variable(torch.Tensor(y_test.argmax(axis=1)).long())"
      ],
      "metadata": {
        "colab": {
          "base_uri": "https://localhost:8080/",
          "height": 237
        },
        "id": "ZwhDdIacd4GA",
        "outputId": "406e760b-cf24-4ae5-afdc-3f03b594bc78"
      },
      "execution_count": 83,
      "outputs": [
        {
          "output_type": "error",
          "ename": "IndexError",
          "evalue": "ignored",
          "traceback": [
            "\u001b[0;31m---------------------------------------------------------------------------\u001b[0m",
            "\u001b[0;31mIndexError\u001b[0m                                Traceback (most recent call last)",
            "\u001b[0;32m<ipython-input-83-7809370789a9>\u001b[0m in \u001b[0;36m<module>\u001b[0;34m\u001b[0m\n\u001b[1;32m      1\u001b[0m \u001b[0mX_train\u001b[0m \u001b[0;34m=\u001b[0m \u001b[0mVariable\u001b[0m\u001b[0;34m(\u001b[0m\u001b[0mtorch\u001b[0m\u001b[0;34m.\u001b[0m\u001b[0mTensor\u001b[0m\u001b[0;34m(\u001b[0m\u001b[0mX_train\u001b[0m\u001b[0;34m)\u001b[0m\u001b[0;34m.\u001b[0m\u001b[0mfloat\u001b[0m\u001b[0;34m(\u001b[0m\u001b[0;34m)\u001b[0m\u001b[0;34m)\u001b[0m\u001b[0;34m\u001b[0m\u001b[0;34m\u001b[0m\u001b[0m\n\u001b[0;32m----> 2\u001b[0;31m \u001b[0my_train\u001b[0m \u001b[0;34m=\u001b[0m \u001b[0mVariable\u001b[0m\u001b[0;34m(\u001b[0m\u001b[0mtorch\u001b[0m\u001b[0;34m.\u001b[0m\u001b[0mTensor\u001b[0m\u001b[0;34m(\u001b[0m\u001b[0my_train\u001b[0m\u001b[0;34m.\u001b[0m\u001b[0margmax\u001b[0m\u001b[0;34m(\u001b[0m\u001b[0maxis\u001b[0m\u001b[0;34m=\u001b[0m\u001b[0;36m1\u001b[0m\u001b[0;34m)\u001b[0m\u001b[0;34m)\u001b[0m\u001b[0;34m.\u001b[0m\u001b[0mlong\u001b[0m\u001b[0;34m(\u001b[0m\u001b[0;34m)\u001b[0m\u001b[0;34m)\u001b[0m\u001b[0;34m\u001b[0m\u001b[0;34m\u001b[0m\u001b[0m\n\u001b[0m\u001b[1;32m      3\u001b[0m \u001b[0mX_test\u001b[0m \u001b[0;34m=\u001b[0m \u001b[0mVariable\u001b[0m\u001b[0;34m(\u001b[0m\u001b[0mtorch\u001b[0m\u001b[0;34m.\u001b[0m\u001b[0mTensor\u001b[0m\u001b[0;34m(\u001b[0m\u001b[0mX_test\u001b[0m\u001b[0;34m)\u001b[0m\u001b[0;34m.\u001b[0m\u001b[0mfloat\u001b[0m\u001b[0;34m(\u001b[0m\u001b[0;34m)\u001b[0m\u001b[0;34m)\u001b[0m\u001b[0;34m\u001b[0m\u001b[0;34m\u001b[0m\u001b[0m\n\u001b[1;32m      4\u001b[0m \u001b[0my_test\u001b[0m \u001b[0;34m=\u001b[0m \u001b[0mVariable\u001b[0m\u001b[0;34m(\u001b[0m\u001b[0mtorch\u001b[0m\u001b[0;34m.\u001b[0m\u001b[0mTensor\u001b[0m\u001b[0;34m(\u001b[0m\u001b[0my_test\u001b[0m\u001b[0;34m.\u001b[0m\u001b[0margmax\u001b[0m\u001b[0;34m(\u001b[0m\u001b[0maxis\u001b[0m\u001b[0;34m=\u001b[0m\u001b[0;36m1\u001b[0m\u001b[0;34m)\u001b[0m\u001b[0;34m)\u001b[0m\u001b[0;34m.\u001b[0m\u001b[0mlong\u001b[0m\u001b[0;34m(\u001b[0m\u001b[0;34m)\u001b[0m\u001b[0;34m)\u001b[0m\u001b[0;34m\u001b[0m\u001b[0;34m\u001b[0m\u001b[0m\n",
            "\u001b[0;31mIndexError\u001b[0m: Dimension out of range (expected to be in range of [-1, 0], but got 1)"
          ]
        },
        {
          "output_type": "stream",
          "name": "stdout",
          "text": [
            "time: 137 ms (started: 2023-03-05 02:04:30 +00:00)\n"
          ]
        }
      ]
    },
    {
      "cell_type": "code",
      "source": [],
      "metadata": {
        "colab": {
          "base_uri": "https://localhost:8080/"
        },
        "id": "DMlwKJu2gKdN",
        "outputId": "746ee785-376d-485f-da60-690f187b9649"
      },
      "execution_count": 80,
      "outputs": [
        {
          "output_type": "stream",
          "name": "stdout",
          "text": [
            "time: 1.44 s (started: 2023-03-05 02:04:12 +00:00)\n"
          ]
        }
      ]
    },
    {
      "cell_type": "code",
      "source": [
        "criterion = torch.nn.CrossEntropyLoss()  # cross entropy loss\n",
        "optimizer = torch.optim.RMSprop(iris_model.parameters(), lr=0.01)"
      ],
      "metadata": {
        "colab": {
          "base_uri": "https://localhost:8080/"
        },
        "id": "0u-14G2vd-q3",
        "outputId": "3d7e7f76-1019-496a-ba32-d432b6bef270"
      },
      "execution_count": 72,
      "outputs": [
        {
          "output_type": "stream",
          "name": "stdout",
          "text": [
            "time: 1.93 ms (started: 2023-03-05 01:52:07 +00:00)\n"
          ]
        }
      ]
    },
    {
      "cell_type": "code",
      "source": [
        "for epoch in trange(100):\n",
        "    optimizer.zero_grad()\n",
        "    out = iris_model(X_train)\n",
        "    loss = criterion(out, y_train)\n",
        "    loss.backward()\n",
        "    optimizer.step()\n",
        "    \n",
        "    if epoch % 10 == 0:\n",
        "        print('number of epoch', epoch, 'loss', loss)"
      ],
      "metadata": {
        "colab": {
          "base_uri": "https://localhost:8080/",
          "height": 240,
          "referenced_widgets": [
            "ddadd02713d84a6f9556864fc824676a",
            "ea8f5794f9f6472dba0716dd9eb055bc",
            "12e67fa7e84d48e1935e1aa34813e74c",
            "d13e836ceacc4828a70896e44d648745",
            "18d8391b7cb448d186046015703bab7c",
            "1cf96ccca95a49d2a57928df05aab17e",
            "0b16d57776514dc58a2d8150514a84d4",
            "0b4042d5f4c64916835c6e135f1a75a0",
            "08a3138032854d7d976d07e08e92a6b4",
            "b06a8163682a4b33874f706db23bdb53",
            "9fe2f5da03c24a6a80b51c1458b30a95"
          ]
        },
        "id": "0KZxQ-tqeBVx",
        "outputId": "7558c6dc-3dfa-4c73-a29f-4e691d37eb2b"
      },
      "execution_count": 77,
      "outputs": [
        {
          "output_type": "display_data",
          "data": {
            "text/plain": [
              "  0%|          | 0/100 [00:00<?, ?it/s]"
            ],
            "application/vnd.jupyter.widget-view+json": {
              "version_major": 2,
              "version_minor": 0,
              "model_id": "ddadd02713d84a6f9556864fc824676a"
            }
          },
          "metadata": {}
        },
        {
          "output_type": "stream",
          "name": "stdout",
          "text": [
            "number of epoch 0 loss tensor(0.5515, grad_fn=<NllLossBackward0>)\n",
            "number of epoch 10 loss tensor(0.5515, grad_fn=<NllLossBackward0>)\n",
            "number of epoch 20 loss tensor(0.5515, grad_fn=<NllLossBackward0>)\n",
            "number of epoch 30 loss tensor(0.5515, grad_fn=<NllLossBackward0>)\n",
            "number of epoch 40 loss tensor(0.5515, grad_fn=<NllLossBackward0>)\n",
            "number of epoch 50 loss tensor(0.5515, grad_fn=<NllLossBackward0>)\n",
            "number of epoch 60 loss tensor(0.5515, grad_fn=<NllLossBackward0>)\n",
            "number of epoch 70 loss tensor(0.5515, grad_fn=<NllLossBackward0>)\n",
            "number of epoch 80 loss tensor(0.5515, grad_fn=<NllLossBackward0>)\n",
            "number of epoch 90 loss tensor(0.5515, grad_fn=<NllLossBackward0>)\n",
            "time: 364 ms (started: 2023-03-05 02:03:03 +00:00)\n"
          ]
        }
      ]
    },
    {
      "cell_type": "code",
      "source": [
        "class SklearnTorchWrapper:\n",
        "  _estimator_type = 'classifier'\n",
        "  def __init__(self, model, classes_):\n",
        "    self.model = model\n",
        "    self.classes_ = classes_\n",
        "    \n",
        "  def predict(self, data):\n",
        "    _, result = torch.max(self.model(data), 1)\n",
        "    return result\n",
        "\n",
        "model_wrapper = SklearnTorchWrapper(iris_model, ['setosa', 'versicolor', 'virginica'])\n"
      ],
      "metadata": {
        "colab": {
          "base_uri": "https://localhost:8080/"
        },
        "id": "jyCaO5MAeFBW",
        "outputId": "25701e8e-c8ca-460c-f7c9-f1ee90e7bbd0"
      },
      "execution_count": 78,
      "outputs": [
        {
          "output_type": "stream",
          "name": "stdout",
          "text": [
            "time: 1.97 ms (started: 2023-03-05 02:03:10 +00:00)\n"
          ]
        }
      ]
    },
    {
      "cell_type": "code",
      "source": [
        "plot_confusion_matrix(\n",
        "    model_wrapper, X_test, y_test,\n",
        "    display_labels=['setosa', 'versicolor', 'virginica'],\n",
        "    normalize='true'\n",
        ")"
      ],
      "metadata": {
        "colab": {
          "base_uri": "https://localhost:8080/",
          "height": 324
        },
        "id": "2KXAsub4eMRW",
        "outputId": "2ce680bb-8b0f-4c0b-819d-196acce1cd42"
      },
      "execution_count": 79,
      "outputs": [
        {
          "output_type": "execute_result",
          "data": {
            "text/plain": [
              "<sklearn.metrics._plot.confusion_matrix.ConfusionMatrixDisplay at 0x7f9769242a30>"
            ]
          },
          "metadata": {},
          "execution_count": 79
        },
        {
          "output_type": "display_data",
          "data": {
            "text/plain": [
              "<Figure size 432x288 with 2 Axes>"
            ],
            "image/png": "[encoded data removed]"
          },
          "metadata": {}
        },
        {
          "output_type": "stream",
          "name": "stdout",
          "text": [
            "time: 303 ms (started: 2023-03-05 02:03:12 +00:00)\n"
          ]
        }
      ]
    },
    {
      "cell_type": "code",
      "source": [
        "#!wget https://raw.githubusercontent.com/propublica/compas-analysis/master/compas-scores-two-years.csv\n",
        "import pandas as pd\n",
        "date_cols = [\n",
        "    'compas_screening_date', 'c_offense_date',\n",
        "    'c_arrest_date', 'r_offense_date', \n",
        "    'vr_offense_date', 'screening_date',\n",
        "    'v_screening_date', 'c_jail_in',\n",
        "    'c_jail_out', 'dob', 'in_custody', \n",
        "    'out_custody'\n",
        "]\n",
        "data = pd.read_csv(\n",
        "    'compas-scores-two-years.csv',\n",
        "    parse_dates=date_cols\n",
        ")\n"
      ],
      "metadata": {
        "colab": {
          "base_uri": "https://localhost:8080/"
        },
        "id": "vlBsYu6neOnk",
        "outputId": "67fefec6-e162-4531-8178-15cfc1856b38"
      },
      "execution_count": 17,
      "outputs": [
        {
          "output_type": "stream",
          "name": "stdout",
          "text": [
            "time: 443 ms (started: 2023-03-05 02:25:43 +00:00)\n"
          ]
        }
      ]
    },
    {
      "cell_type": "code",
      "source": [
        "data"
      ],
      "metadata": {
        "colab": {
          "base_uri": "https://localhost:8080/",
          "height": 678
        },
        "id": "Qf1yeziniw0j",
        "outputId": "30f4d220-2be3-4941-d701-95d08c10aa1c"
      },
      "execution_count": 18,
      "outputs": [
        {
          "output_type": "execute_result",
          "data": {
            "text/plain": [
              "         id                 name      first         last  \\\n",
              "0         1     miguel hernandez     miguel    hernandez   \n",
              "1         3          kevon dixon      kevon        dixon   \n",
              "2         4             ed philo         ed        philo   \n",
              "3         5          marcu brown      marcu        brown   \n",
              "4         6   bouthy pierrelouis     bouthy  pierrelouis   \n",
              "...     ...                  ...        ...          ...   \n",
              "7209  10996        steven butler     steven       butler   \n",
              "7210  10997      malcolm simmons    malcolm      simmons   \n",
              "7211  10999      winston gregory    winston      gregory   \n",
              "7212  11000          farrah jean     farrah         jean   \n",
              "7213  11001  florencia sanmartin  florencia    sanmartin   \n",
              "\n",
              "     compas_screening_date     sex        dob  age          age_cat  \\\n",
              "0               2013-08-14    Male 1947-04-18   69  Greater than 45   \n",
              "1               2013-01-27    Male 1982-01-22   34          25 - 45   \n",
              "2               2013-04-14    Male 1991-05-14   24     Less than 25   \n",
              "3               2013-01-13    Male 1993-01-21   23     Less than 25   \n",
              "4               2013-03-26    Male 1973-01-22   43          25 - 45   \n",
              "...                    ...     ...        ...  ...              ...   \n",
              "7209            2013-11-23    Male 1992-07-17   23     Less than 25   \n",
              "7210            2014-02-01    Male 1993-03-25   23     Less than 25   \n",
              "7211            2014-01-14    Male 1958-10-01   57  Greater than 45   \n",
              "7212            2014-03-09  Female 1982-11-17   33          25 - 45   \n",
              "7213            2014-06-30  Female 1992-12-18   23     Less than 25   \n",
              "\n",
              "                  race  ...  v_decile_score  v_score_text  v_screening_date  \\\n",
              "0                Other  ...               1           Low        2013-08-14   \n",
              "1     African-American  ...               1           Low        2013-01-27   \n",
              "2     African-American  ...               3           Low        2013-04-14   \n",
              "3     African-American  ...               6        Medium        2013-01-13   \n",
              "4                Other  ...               1           Low        2013-03-26   \n",
              "...                ...  ...             ...           ...               ...   \n",
              "7209  African-American  ...               5        Medium        2013-11-23   \n",
              "7210  African-American  ...               5        Medium        2014-02-01   \n",
              "7211             Other  ...               1           Low        2014-01-14   \n",
              "7212  African-American  ...               2           Low        2014-03-09   \n",
              "7213          Hispanic  ...               4           Low        2014-06-30   \n",
              "\n",
              "      in_custody  out_custody  priors_count.1 start   end event two_year_recid  \n",
              "0     2014-07-07   2014-07-14               0     0   327     0              0  \n",
              "1     2013-01-26   2013-02-05               0     9   159     1              1  \n",
              "2     2013-06-16   2013-06-16               4     0    63     0              1  \n",
              "3            NaT          NaT               1     0  1174     0              0  \n",
              "4            NaT          NaT               2     0  1102     0              0  \n",
              "...          ...          ...             ...   ...   ...   ...            ...  \n",
              "7209  2013-11-22   2013-11-24               0     1   860     0              0  \n",
              "7210  2014-01-31   2014-02-02               0     1   790     0              0  \n",
              "7211  2014-01-13   2014-01-14               0     0   808     0              0  \n",
              "7212  2014-03-08   2014-03-09               3     0   754     0              0  \n",
              "7213  2015-03-15   2015-03-15               2     0   258     0              1  \n",
              "\n",
              "[7214 rows x 53 columns]"
            ],
            "text/html": [
              "\n",
              "  <div id=\"df-b6f84df4-5588-44e4-8d80-90d2e5d1701a\">\n",
              "    <div class=\"colab-df-container\">\n",
              "      <div>\n",
              "<style scoped>\n",
              "    .dataframe tbody tr th:only-of-type {\n",
              "        vertical-align: middle;\n",
              "    }\n",
              "\n",
              "    .dataframe tbody tr th {\n",
              "        vertical-align: top;\n",
              "    }\n",
              "\n",
              "    .dataframe thead th {\n",
              "        text-align: right;\n",
              "    }\n",
              "</style>\n",
              "<table border=\"1\" class=\"dataframe\">\n",
              "  <thead>\n",
              "    <tr style=\"text-align: right;\">\n",
              "      <th></th>\n",
              "      <th>id</th>\n",
              "      <th>name</th>\n",
              "      <th>first</th>\n",
              "      <th>last</th>\n",
              "      <th>compas_screening_date</th>\n",
              "      <th>sex</th>\n",
              "      <th>dob</th>\n",
              "      <th>age</th>\n",
              "      <th>age_cat</th>\n",
              "      <th>race</th>\n",
              "      <th>...</th>\n",
              "      <th>v_decile_score</th>\n",
              "      <th>v_score_text</th>\n",
              "      <th>v_screening_date</th>\n",
              "      <th>in_custody</th>\n",
              "      <th>out_custody</th>\n",
              "      <th>priors_count.1</th>\n",
              "      <th>start</th>\n",
              "      <th>end</th>\n",
              "      <th>event</th>\n",
              "      <th>two_year_recid</th>\n",
              "    </tr>\n",
              "  </thead>\n",
              "  <tbody>\n",
              "    <tr>\n",
              "      <th>0</th>\n",
              "      <td>1</td>\n",
              "      <td>miguel hernandez</td>\n",
              "      <td>miguel</td>\n",
              "      <td>hernandez</td>\n",
              "      <td>2013-08-14</td>\n",
              "      <td>Male</td>\n",
              "      <td>1947-04-18</td>\n",
              "      <td>69</td>\n",
              "      <td>Greater than 45</td>\n",
              "      <td>Other</td>\n",
              "      <td>...</td>\n",
              "      <td>1</td>\n",
              "      <td>Low</td>\n",
              "      <td>2013-08-14</td>\n",
              "      <td>2014-07-07</td>\n",
              "      <td>2014-07-14</td>\n",
              "      <td>0</td>\n",
              "      <td>0</td>\n",
              "      <td>327</td>\n",
              "      <td>0</td>\n",
              "      <td>0</td>\n",
              "    </tr>\n",
              "    <tr>\n",
              "      <th>1</th>\n",
              "      <td>3</td>\n",
              "      <td>kevon dixon</td>\n",
              "      <td>kevon</td>\n",
              "      <td>dixon</td>\n",
              "      <td>2013-01-27</td>\n",
              "      <td>Male</td>\n",
              "      <td>1982-01-22</td>\n",
              "      <td>34</td>\n",
              "      <td>25 - 45</td>\n",
              "      <td>African-American</td>\n",
              "      <td>...</td>\n",
              "      <td>1</td>\n",
              "      <td>Low</td>\n",
              "      <td>2013-01-27</td>\n",
              "      <td>2013-01-26</td>\n",
              "      <td>2013-02-05</td>\n",
              "      <td>0</td>\n",
              "      <td>9</td>\n",
              "      <td>159</td>\n",
              "      <td>1</td>\n",
              "      <td>1</td>\n",
              "    </tr>\n",
              "    <tr>\n",
              "      <th>2</th>\n",
              "      <td>4</td>\n",
              "      <td>ed philo</td>\n",
              "      <td>ed</td>\n",
              "      <td>philo</td>\n",
              "      <td>2013-04-14</td>\n",
              "      <td>Male</td>\n",
              "      <td>1991-05-14</td>\n",
              "      <td>24</td>\n",
              "      <td>Less than 25</td>\n",
              "      <td>African-American</td>\n",
              "      <td>...</td>\n",
              "      <td>3</td>\n",
              "      <td>Low</td>\n",
              "      <td>2013-04-14</td>\n",
              "      <td>2013-06-16</td>\n",
              "      <td>2013-06-16</td>\n",
              "      <td>4</td>\n",
              "      <td>0</td>\n",
              "      <td>63</td>\n",
              "      <td>0</td>\n",
              "      <td>1</td>\n",
              "    </tr>\n",
              "    <tr>\n",
              "      <th>3</th>\n",
              "      <td>5</td>\n",
              "      <td>marcu brown</td>\n",
              "      <td>marcu</td>\n",
              "      <td>brown</td>\n",
              "      <td>2013-01-13</td>\n",
              "      <td>Male</td>\n",
              "      <td>1993-01-21</td>\n",
              "      <td>23</td>\n",
              "      <td>Less than 25</td>\n",
              "      <td>African-American</td>\n",
              "      <td>...</td>\n",
              "      <td>6</td>\n",
              "      <td>Medium</td>\n",
              "      <td>2013-01-13</td>\n",
              "      <td>NaT</td>\n",
              "      <td>NaT</td>\n",
              "      <td>1</td>\n",
              "      <td>0</td>\n",
              "      <td>1174</td>\n",
              "      <td>0</td>\n",
              "      <td>0</td>\n",
              "    </tr>\n",
              "    <tr>\n",
              "      <th>4</th>\n",
              "      <td>6</td>\n",
              "      <td>bouthy pierrelouis</td>\n",
              "      <td>bouthy</td>\n",
              "      <td>pierrelouis</td>\n",
              "      <td>2013-03-26</td>\n",
              "      <td>Male</td>\n",
              "      <td>1973-01-22</td>\n",
              "      <td>43</td>\n",
              "      <td>25 - 45</td>\n",
              "      <td>Other</td>\n",
              "      <td>...</td>\n",
              "      <td>1</td>\n",
              "      <td>Low</td>\n",
              "      <td>2013-03-26</td>\n",
              "      <td>NaT</td>\n",
              "      <td>NaT</td>\n",
              "      <td>2</td>\n",
              "      <td>0</td>\n",
              "      <td>1102</td>\n",
              "      <td>0</td>\n",
              "      <td>0</td>\n",
              "    </tr>\n",
              "    <tr>\n",
              "      <th>...</th>\n",
              "      <td>...</td>\n",
              "      <td>...</td>\n",
              "      <td>...</td>\n",
              "      <td>...</td>\n",
              "      <td>...</td>\n",
              "      <td>...</td>\n",
              "      <td>...</td>\n",
              "      <td>...</td>\n",
              "      <td>...</td>\n",
              "      <td>...</td>\n",
              "      <td>...</td>\n",
              "      <td>...</td>\n",
              "      <td>...</td>\n",
              "      <td>...</td>\n",
              "      <td>...</td>\n",
              "      <td>...</td>\n",
              "      <td>...</td>\n",
              "      <td>...</td>\n",
              "      <td>...</td>\n",
              "      <td>...</td>\n",
              "      <td>...</td>\n",
              "    </tr>\n",
              "    <tr>\n",
              "      <th>7209</th>\n",
              "      <td>10996</td>\n",
              "      <td>steven butler</td>\n",
              "      <td>steven</td>\n",
              "      <td>butler</td>\n",
              "      <td>2013-11-23</td>\n",
              "      <td>Male</td>\n",
              "      <td>1992-07-17</td>\n",
              "      <td>23</td>\n",
              "      <td>Less than 25</td>\n",
              "      <td>African-American</td>\n",
              "      <td>...</td>\n",
              "      <td>5</td>\n",
              "      <td>Medium</td>\n",
              "      <td>2013-11-23</td>\n",
              "      <td>2013-11-22</td>\n",
              "      <td>2013-11-24</td>\n",
              "      <td>0</td>\n",
              "      <td>1</td>\n",
              "      <td>860</td>\n",
              "      <td>0</td>\n",
              "      <td>0</td>\n",
              "    </tr>\n",
              "    <tr>\n",
              "      <th>7210</th>\n",
              "      <td>10997</td>\n",
              "      <td>malcolm simmons</td>\n",
              "      <td>malcolm</td>\n",
              "      <td>simmons</td>\n",
              "      <td>2014-02-01</td>\n",
              "      <td>Male</td>\n",
              "      <td>1993-03-25</td>\n",
              "      <td>23</td>\n",
              "      <td>Less than 25</td>\n",
              "      <td>African-American</td>\n",
              "      <td>...</td>\n",
              "      <td>5</td>\n",
              "      <td>Medium</td>\n",
              "      <td>2014-02-01</td>\n",
              "      <td>2014-01-31</td>\n",
              "      <td>2014-02-02</td>\n",
              "      <td>0</td>\n",
              "      <td>1</td>\n",
              "      <td>790</td>\n",
              "      <td>0</td>\n",
              "      <td>0</td>\n",
              "    </tr>\n",
              "    <tr>\n",
              "      <th>7211</th>\n",
              "      <td>10999</td>\n",
              "      <td>winston gregory</td>\n",
              "      <td>winston</td>\n",
              "      <td>gregory</td>\n",
              "      <td>2014-01-14</td>\n",
              "      <td>Male</td>\n",
              "      <td>1958-10-01</td>\n",
              "      <td>57</td>\n",
              "      <td>Greater than 45</td>\n",
              "      <td>Other</td>\n",
              "      <td>...</td>\n",
              "      <td>1</td>\n",
              "      <td>Low</td>\n",
              "      <td>2014-01-14</td>\n",
              "      <td>2014-01-13</td>\n",
              "      <td>2014-01-14</td>\n",
              "      <td>0</td>\n",
              "      <td>0</td>\n",
              "      <td>808</td>\n",
              "      <td>0</td>\n",
              "      <td>0</td>\n",
              "    </tr>\n",
              "    <tr>\n",
              "      <th>7212</th>\n",
              "      <td>11000</td>\n",
              "      <td>farrah jean</td>\n",
              "      <td>farrah</td>\n",
              "      <td>jean</td>\n",
              "      <td>2014-03-09</td>\n",
              "      <td>Female</td>\n",
              "      <td>1982-11-17</td>\n",
              "      <td>33</td>\n",
              "      <td>25 - 45</td>\n",
              "      <td>African-American</td>\n",
              "      <td>...</td>\n",
              "      <td>2</td>\n",
              "      <td>Low</td>\n",
              "      <td>2014-03-09</td>\n",
              "      <td>2014-03-08</td>\n",
              "      <td>2014-03-09</td>\n",
              "      <td>3</td>\n",
              "      <td>0</td>\n",
              "      <td>754</td>\n",
              "      <td>0</td>\n",
              "      <td>0</td>\n",
              "    </tr>\n",
              "    <tr>\n",
              "      <th>7213</th>\n",
              "      <td>11001</td>\n",
              "      <td>florencia sanmartin</td>\n",
              "      <td>florencia</td>\n",
              "      <td>sanmartin</td>\n",
              "      <td>2014-06-30</td>\n",
              "      <td>Female</td>\n",
              "      <td>1992-12-18</td>\n",
              "      <td>23</td>\n",
              "      <td>Less than 25</td>\n",
              "      <td>Hispanic</td>\n",
              "      <td>...</td>\n",
              "      <td>4</td>\n",
              "      <td>Low</td>\n",
              "      <td>2014-06-30</td>\n",
              "      <td>2015-03-15</td>\n",
              "      <td>2015-03-15</td>\n",
              "      <td>2</td>\n",
              "      <td>0</td>\n",
              "      <td>258</td>\n",
              "      <td>0</td>\n",
              "      <td>1</td>\n",
              "    </tr>\n",
              "  </tbody>\n",
              "</table>\n",
              "<p>7214 rows × 53 columns</p>\n",
              "</div>\n",
              "      <button class=\"colab-df-convert\" onclick=\"convertToInteractive('df-b6f84df4-5588-44e4-8d80-90d2e5d1701a')\"\n",
              "              title=\"Convert this dataframe to an interactive table.\"\n",
              "              style=\"display:none;\">\n",
              "        \n",
              "  <svg xmlns=\"http://www.w3.org/2000/svg\" height=\"24px\"viewBox=\"0 0 24 24\"\n",
              "       width=\"24px\">\n",
              "    <path d=\"M0 0h24v24H0V0z\" fill=\"none\"/>\n",
              "    <path d=\"M18.56 5.44l.94 2.06.94-2.06 2.06-.94-2.06-.94-.94-2.06-.94 2.06-2.06.94zm-11 1L8.5 8.5l.94-2.06 2.06-.94-2.06-.94L8.5 2.5l-.94 2.06-2.06.94zm10 10l.94 2.06.94-2.06 2.06-.94-2.06-.94-.94-2.06-.94 2.06-2.06.94z\"/><path d=\"M17.41 7.96l-1.37-1.37c-.4-.4-.92-.59-1.43-.59-.52 0-1.04.2-1.43.59L10.3 9.45l-7.72 7.72c-.78.78-.78 2.05 0 2.83L4 21.41c.39.39.9.59 1.41.59.51 0 1.02-.2 1.41-.59l7.78-7.78 2.81-2.81c.8-.78.8-2.07 0-2.86zM5.41 20L4 18.59l7.72-7.72 1.47 1.35L5.41 20z\"/>\n",
              "  </svg>\n",
              "      </button>\n",
              "      \n",
              "  <style>\n",
              "    .colab-df-container {\n",
              "      display:flex;\n",
              "      flex-wrap:wrap;\n",
              "      gap: 12px;\n",
              "    }\n",
              "\n",
              "    .colab-df-convert {\n",
              "      background-color: #E8F0FE;\n",
              "      border: none;\n",
              "      border-radius: 50%;\n",
              "      cursor: pointer;\n",
              "      display: none;\n",
              "      fill: #1967D2;\n",
              "      height: 32px;\n",
              "      padding: 0 0 0 0;\n",
              "      width: 32px;\n",
              "    }\n",
              "\n",
              "    .colab-df-convert:hover {\n",
              "      background-color: #E2EBFA;\n",
              "      box-shadow: 0px 1px 2px rgba(60, 64, 67, 0.3), 0px 1px 3px 1px rgba(60, 64, 67, 0.15);\n",
              "      fill: #174EA6;\n",
              "    }\n",
              "\n",
              "    [theme=dark] .colab-df-convert {\n",
              "      background-color: #3B4455;\n",
              "      fill: #D2E3FC;\n",
              "    }\n",
              "\n",
              "    [theme=dark] .colab-df-convert:hover {\n",
              "      background-color: #434B5C;\n",
              "      box-shadow: 0px 1px 3px 1px rgba(0, 0, 0, 0.15);\n",
              "      filter: drop-shadow(0px 1px 2px rgba(0, 0, 0, 0.3));\n",
              "      fill: #FFFFFF;\n",
              "    }\n",
              "  </style>\n",
              "\n",
              "      <script>\n",
              "        const buttonEl =\n",
              "          document.querySelector('#df-b6f84df4-5588-44e4-8d80-90d2e5d1701a button.colab-df-convert');\n",
              "        buttonEl.style.display =\n",
              "          google.colab.kernel.accessAllowed ? 'block' : 'none';\n",
              "\n",
              "        async function convertToInteractive(key) {\n",
              "          const element = document.querySelector('#df-b6f84df4-5588-44e4-8d80-90d2e5d1701a');\n",
              "          const dataTable =\n",
              "            await google.colab.kernel.invokeFunction('convertToInteractive',\n",
              "                                                     [key], {});\n",
              "          if (!dataTable) return;\n",
              "\n",
              "          const docLinkHtml = 'Like what you see? Visit the ' +\n",
              "            '<a target=\"_blank\" href=https://colab.research.google.com/notebooks/data_table.ipynb>data table notebook</a>'\n",
              "            + ' to learn more about interactive tables.';\n",
              "          element.innerHTML = '';\n",
              "          dataTable['output_type'] = 'display_data';\n",
              "          await google.colab.output.renderOutput(dataTable, element);\n",
              "          const docLink = document.createElement('div');\n",
              "          docLink.innerHTML = docLinkHtml;\n",
              "          element.appendChild(docLink);\n",
              "        }\n",
              "      </script>\n",
              "    </div>\n",
              "  </div>\n",
              "  "
            ]
          },
          "metadata": {},
          "execution_count": 18
        },
        {
          "output_type": "stream",
          "name": "stdout",
          "text": [
            "time: 67.1 ms (started: 2023-03-05 02:25:47 +00:00)\n"
          ]
        }
      ]
    },
    {
      "cell_type": "code",
      "source": [
        "\n",
        "import numpy as np\n",
        "\n",
        "def mse(preds, targers):\n",
        "  return np.sum((pred))\n",
        "  "
      ],
      "metadata": {
        "id": "Tf7biUQ2i0Yn"
      },
      "execution_count": null,
      "outputs": []
    },
    {
      "cell_type": "code",
      "source": [],
      "metadata": {
        "colab": {
          "base_uri": "https://localhost:8080/"
        },
        "id": "d7WhOHtHmOMz",
        "outputId": "702adc6d-1701-4c04-a90f-041e73f47db0"
      },
      "execution_count": 22,
      "outputs": [
        {
          "output_type": "stream",
          "name": "stdout",
          "text": [
            "--2023-03-05 02:30:28--  https://archive.ics.uci.edu/ml/machine-learning-databases/adult/adult.data\n",
            "Resolving archive.ics.uci.edu (archive.ics.uci.edu)... 128.195.10.252\n",
            "Connecting to archive.ics.uci.edu (archive.ics.uci.edu)|128.195.10.252|:443... connected.\n",
            "HTTP request sent, awaiting response... 200 OK\n",
            "Length: 3974305 (3.8M) [application/x-httpd-php]\n",
            "Saving to: ‘adult.data.1’\n",
            "\n",
            "adult.data.1        100%[===================>]   3.79M  6.83MB/s    in 0.6s    \n",
            "\n",
            "2023-03-05 02:30:29 (6.83 MB/s) - ‘adult.data.1’ saved [3974305/3974305]\n",
            "\n",
            "time: 1.03 s (started: 2023-03-05 02:30:28 +00:00)\n"
          ]
        }
      ]
    },
    {
      "cell_type": "code",
      "source": [],
      "metadata": {
        "id": "6S_frqTEmjBL"
      },
      "execution_count": null,
      "outputs": []
    }
  ]
}