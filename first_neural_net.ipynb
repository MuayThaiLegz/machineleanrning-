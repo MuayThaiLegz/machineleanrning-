{
 "cells": [
  {
   "cell_type": "code",
   "execution_count": 24,
   "id": "8b613425",
   "metadata": {},
   "outputs": [],
   "source": [
    "import warnings\n",
    "warnings.filterwarnings('ignore')\n"
   ]
  },
  {
   "cell_type": "code",
   "execution_count": 38,
   "id": "a6a4ae37",
   "metadata": {},
   "outputs": [],
   "source": [
    "from pandas.plotting import scatter_matrix\n",
    "\n",
    "%matplotlib inline\n",
    "import numpy as np\n",
    "import datetime\n",
    "import matplotlib as mpl \n",
    "import matplotlib.pyplot as plt\n",
    "import seaborn as sns\n",
    "sns.set_theme()\n",
    "from sklearn.datasets import make_blobs\n",
    "import pandas as pd\n",
    "import hvplot.pandas\n",
    "from sklearn.cluster import KMeans\n",
    "from sklearn.decomposition import PCA\n",
    "from sklearn.linear_model import LinearRegression\n",
    "from sklearn.tree import DecisionTreeRegressor\n",
    "from sklearn import preprocessing\n",
    "from sklearn import utils\n",
    "\n",
    "from pylab import mpl, plt\n",
    "import datetime\n",
    "import tensorflow as tf\n",
    "from tensorflow import keras\n",
    "pd.set_option('display.max_rows', 2000)\n",
    "pd.set_option('display.max_columns', 2000)\n",
    "pd.set_option('display.width', 1000)"
   ]
  },
  {
   "cell_type": "code",
   "execution_count": 39,
   "id": "e8b19a6e",
   "metadata": {},
   "outputs": [],
   "source": [
    "from tensorflow.keras.datasets import mnist \n",
    "\n",
    "\n",
    "(train_images, train_labels), (test_images, test_labels) = mnist.load_data()"
   ]
  },
  {
   "cell_type": "code",
   "execution_count": 40,
   "id": "92ea692d",
   "metadata": {},
   "outputs": [
    {
     "data": {
      "text/plain": [
       "(60000, 28, 28)"
      ]
     },
     "metadata": {},
     "output_type": "display_data"
    },
    {
     "data": {
      "text/plain": [
       "60000"
      ]
     },
     "metadata": {},
     "output_type": "display_data"
    },
    {
     "data": {
      "text/plain": [
       "(10000, 28, 28)"
      ]
     },
     "metadata": {},
     "output_type": "display_data"
    },
    {
     "data": {
      "text/plain": [
       "10000"
      ]
     },
     "metadata": {},
     "output_type": "display_data"
    },
    {
     "data": {
      "text/plain": [
       "array([7, 2, 1, ..., 4, 5, 6], dtype=uint8)"
      ]
     },
     "metadata": {},
     "output_type": "display_data"
    }
   ],
   "source": [
    "\"\"\"\n",
    "train_images and train_labels form the training set, the data that the model will learn from.\n",
    "The Model will be tested on the test set, test_images and test_labels.\n",
    "\n",
    "The images are encoded as np arrays, and the labels are an array of digits, ranging from 0:9\n",
    "Images and labels have a one-to-one correspondence\n",
    "\n",
    "\"\"\"\n",
    "\n",
    "display(train_images.shape)\n",
    "\n",
    "display(len(train_labels))\n",
    "\n",
    "display(test_images.shape)\n",
    "\n",
    "display(len(test_labels))\n",
    "\n",
    "display(test_labels)"
   ]
  },
  {
   "cell_type": "code",
   "execution_count": 41,
   "id": "ac27759e",
   "metadata": {},
   "outputs": [],
   "source": [
    "\"\"\"\n",
    "# The network architecture.\n",
    "The core building block of neural networks is the layer, a data-processing module that you can think of as a filter for data\n",
    "Data does in and comes out in a more usefull form. Layers extract representations out of the data fed into them.\n",
    "Most deep learning consists of chaining together simple layers that will implement a for, of progressive data distillation.\n",
    "\n",
    "\n",
    "\"\"\"\n",
    "\n",
    "\n",
    "from tensorflow.keras import models \n",
    "from tensorflow.keras import layers\n",
    "\n",
    "network = models.Sequential()\n",
    "\n",
    "\n",
    "# dense|fully connected neural layer. \n",
    "network.add(layers.Dense(512, activation='relu', input_shape=(28 * 28,)))\n",
    "# a 10-way layer, will return an array of 10 probabikity scores summing to 1.\n",
    "network.add(layers.Dense(10, activation='softmax'))"
   ]
  },
  {
   "cell_type": "code",
   "execution_count": 42,
   "id": "34166bbf",
   "metadata": {},
   "outputs": [],
   "source": [
    "\"\"\"\n",
    "To make the network ready for training, we need to pick three more things, as part \n",
    "of the compilation step:\n",
    "\n",
    "* A loss function -- How the network will be able to measure its performance on the training data, and thus how it will \n",
    "    be able to steer itself in the right direction.\n",
    "\n",
    "* An optimizer -- The mechanism through which the network updates itself based on the data it sees and its loss function\n",
    "\n",
    "* Metrics to monitor during training and testing -- Here, we'll only care about accuracy.\n",
    "    (fraction of images correctly classified).\n",
    "    \n",
    "\"\"\"\n",
    "\n",
    "\n",
    "network.compile(optimizer='rmsprop',\n",
    "               loss='categorical_crossentropy',\n",
    "               metrics=['accuracy'])"
   ]
  },
  {
   "cell_type": "code",
   "execution_count": 43,
   "id": "72eca869",
   "metadata": {},
   "outputs": [],
   "source": [
    "\"\"\"\n",
    "Before training, we'll preprocess the data by reshaping it into the shape the network expects and scaling it\n",
    "so the all values are in the [0, 1] interval. Previosly, our training images, for instance,\n",
    "were stored in an array of shape (60000, 28, 28) of type uint8 with values in the [0, 255] interval.\n",
    "We transform it into a float32 array of shape (60000. 28 * 28) with values between 0 and 1.\n",
    "\"\"\"\n",
    "\n",
    "train_images = train_images.reshape((60000, 28 * 28))\n",
    "\n",
    "train_images = train_images.astype('float') / 255"
   ]
  },
  {
   "cell_type": "code",
   "execution_count": 44,
   "id": "dbbf5b78",
   "metadata": {},
   "outputs": [],
   "source": [
    "test_images = test_images.reshape((10000, 28 * 28))\n",
    "\n",
    "test_images = test_images.astype('float') / 255"
   ]
  },
  {
   "cell_type": "code",
   "execution_count": 47,
   "id": "9c175296",
   "metadata": {},
   "outputs": [],
   "source": [
    "# We also need to categorically encode the labels\n",
    "\n",
    "from tensorflow.keras.utils import to_categorical\n",
    "\n",
    "\n",
    "train_labels = to_categorical(train_labels)\n",
    "\n",
    "test_labels = to_categorical(test_labels)"
   ]
  },
  {
   "cell_type": "code",
   "execution_count": 48,
   "id": "f3fa05a6",
   "metadata": {},
   "outputs": [
    {
     "name": "stdout",
     "output_type": "stream",
     "text": [
      "Train on 60000 samples\n",
      "Epoch 1/10\n",
      "60000/60000 [==============================] - 2s 38us/sample - loss: 0.2586 - acc: 0.9258\n",
      "Epoch 2/10\n",
      "60000/60000 [==============================] - 2s 37us/sample - loss: 0.1044 - acc: 0.9691\n",
      "Epoch 3/10\n",
      "60000/60000 [==============================] - 2s 39us/sample - loss: 0.0694 - acc: 0.9796\n",
      "Epoch 4/10\n",
      "60000/60000 [==============================] - 2s 36us/sample - loss: 0.0499 - acc: 0.9849\n",
      "Epoch 5/10\n",
      "60000/60000 [==============================] - 2s 35us/sample - loss: 0.0381 - acc: 0.9883\n",
      "Epoch 6/10\n",
      "60000/60000 [==============================] - 2s 35us/sample - loss: 0.0293 - acc: 0.9914\n",
      "Epoch 7/10\n",
      "60000/60000 [==============================] - 2s 36us/sample - loss: 0.0225 - acc: 0.9936\n",
      "Epoch 8/10\n",
      "60000/60000 [==============================] - 2s 39us/sample - loss: 0.0170 - acc: 0.9952\n",
      "Epoch 9/10\n",
      "60000/60000 [==============================] - 2s 35us/sample - loss: 0.0132 - acc: 0.9961\n",
      "Epoch 10/10\n",
      "60000/60000 [==============================] - 2s 39us/sample - loss: 0.0105 - acc: 0.9971\n"
     ]
    },
    {
     "data": {
      "text/plain": [
       "<tensorflow.python.keras.callbacks.History at 0x1b9cab13ac8>"
      ]
     },
     "execution_count": 48,
     "metadata": {},
     "output_type": "execute_result"
    }
   ],
   "source": [
    "# We are now ready to train the network which in keras is done via a call to the networks fir metthod.\n",
    "# We fit the model to its training data\n",
    "\n",
    "network.fit(train_images, train_labels,epochs=10, batch_size=128)"
   ]
  },
  {
   "cell_type": "code",
   "execution_count": 49,
   "id": "33f34431",
   "metadata": {},
   "outputs": [
    {
     "name": "stdout",
     "output_type": "stream",
     "text": [
      "10000/10000 [==============================] - 0s 18us/sample - loss: 0.0737 - acc: 0.9815\n",
      "test_acc: 0.9815\n"
     ]
    }
   ],
   "source": [
    "\"\"\"\n",
    "Two quantities are displayed during training: the loss of the network over the training data,\n",
    "and the accuracy of the network over the training data.\n",
    "\n",
    "\n",
    "Let's check that the model performs well on the test set, too:\n",
    "\"\"\"\n",
    "\n",
    "test_loss, test_acc = network.evaluate(test_images, test_labels)\n",
    "\n",
    "print('test_acc:',  test_acc)\n"
   ]
  },
  {
   "cell_type": "code",
   "execution_count": null,
   "id": "9767be3c",
   "metadata": {},
   "outputs": [],
   "source": []
  },
  {
   "cell_type": "code",
   "execution_count": null,
   "id": "5bc6cf8d",
   "metadata": {},
   "outputs": [],
   "source": []
  },
  {
   "cell_type": "code",
   "execution_count": 59,
   "id": "5531f17a",
   "metadata": {},
   "outputs": [
    {
     "data": {
      "text/plain": [
       "array(12)"
      ]
     },
     "metadata": {},
     "output_type": "display_data"
    },
    {
     "data": {
      "text/plain": [
       "0"
      ]
     },
     "metadata": {},
     "output_type": "display_data"
    },
    {
     "data": {
      "text/plain": [
       "array([12,  3,  6, 14])"
      ]
     },
     "metadata": {},
     "output_type": "display_data"
    },
    {
     "data": {
      "text/plain": [
       "1"
      ]
     },
     "metadata": {},
     "output_type": "display_data"
    },
    {
     "data": {
      "text/plain": [
       "array([[ 5, 78,  2, 34,  0],\n",
       "       [ 6, 79,  3, 35,  1],\n",
       "       [ 7, 80,  4, 36,  2]])"
      ]
     },
     "metadata": {},
     "output_type": "display_data"
    },
    {
     "data": {
      "text/plain": [
       "2"
      ]
     },
     "metadata": {},
     "output_type": "display_data"
    },
    {
     "data": {
      "text/plain": [
       "array([[list([5, 78, 2, 34, 0]), list([6, 79, 3, 35, 1]),\n",
       "        list([7, 80, 4, 36, 2])],\n",
       "       [list([5, 78, 2, 34, 0]),\n",
       "        list([6, 79, 3, 35, 1, [7, 80, 4, 36, 2]]),\n",
       "        list([[5, 78, 2, 34, 0], [6, 79, 3, 35, 1], [7, 80, 4, 36, 2]])]],\n",
       "      dtype=object)"
      ]
     },
     "metadata": {},
     "output_type": "display_data"
    }
   ],
   "source": [
    "\"\"\"\n",
    "# Data representaions for neural networks\n",
    "In general, all current machine learning systems use tensors as their basic data structure. \n",
    "\n",
    "Tensor: at its core, a tensor is a container for data-- almost always numerical data. So, it's a container for numbers.\n",
    "Matrices are2d tensors; tensors are a generelization of matrices to an arbitrary number of dimensions.\n",
    "(note that in the context of tensors, a dimension is often called an axis)\n",
    "\n",
    "\n",
    "\n",
    "# Scalars (OD tensors)\n",
    "A tensor that contains only one number is called a scalar(or scalar tensor, or 0-dimensional tensor, or 0D tensor). In Numpy\n",
    "a float32 or float64 number is a scalar tensor (or scalar array). You can display the number of axes of a numpy tensor viaa\n",
    "the ndim attribute; a scalar tensor has 0 axes (nim == 0).The number of axes of a tensor is also called its rank.\n",
    "\n",
    "\"\"\"\n",
    "\n",
    "x = np.array(12)\n",
    "\n",
    "display(x)\n",
    "\n",
    "display(x.ndim)\n",
    "\n",
    "# Vectors (1d tensors)\n",
    "# An array of numbers is called a vector, or 1d tensor. A 1d tensor is said to hace exactly one axis\n",
    "\n",
    "xx= np.array([12, 3, 6, 14])\n",
    "\n",
    "display(xx)\n",
    "\n",
    "display(xx.ndim)\n",
    "\n",
    "# This vector has five entries and so is called a 5-dimensional vector. Dont confuse a 5d vector with a 5d tesnor!\n",
    "# A 5d vector has only one axis and has five dimensions along its axis,\n",
    "# A 5d tensor has five axes (and may have any number of dimensions along each axis)\n",
    "# Dimensionality can denote either the number of entries along a specific axis(as in case of 5d vector)\n",
    "# or the umber of axes in a tensor (such as in a 5d tensor), \n",
    "\n",
    "# Matrices (2D tensors)\n",
    "\n",
    "# An array of vectors is a matrix, or 2d tensor. A matrix has two axes (often referred to rows and colunms).\n",
    "# you can visulaly interpert a matrix a as a rectangular grid of numbers.\n",
    "\n",
    "x_ma = np.array([[5, 78, 2, 34, 0],\n",
    "                [6, 79, 3, 35, 1],\n",
    "                [7, 80, 4, 36, 2]])\n",
    "\n",
    "display(x_ma)\n",
    "\n",
    "display(x_ma.ndim)\n",
    "\n",
    "# 3D tensors and higer dimensional tensors\n",
    "\n",
    "# if you pack such matrices into a new array, you obtain a 3d tensor\n",
    "\n",
    "xDDD = np.array([[[5, 78, 2, 34, 0],\n",
    "                 [6, 79, 3, 35, 1],\n",
    "                 [7, 80, 4, 36, 2]],\n",
    "                [[5, 78, 2, 34, 0],\n",
    "                 [6, 79, 3, 35, 1,\n",
    "                 [7, 80, 4, 36, 2]],\n",
    "                [[5, 78, 2, 34, 0],\n",
    "                 [6, 79, 3, 35, 1],\n",
    "                 [7, 80, 4, 36, 2]]]])\n",
    "\n",
    "display(xDDD)"
   ]
  },
  {
   "cell_type": "code",
   "execution_count": null,
   "id": "9dea01aa",
   "metadata": {},
   "outputs": [],
   "source": []
  },
  {
   "cell_type": "code",
   "execution_count": null,
   "id": "5fd36580",
   "metadata": {},
   "outputs": [],
   "source": []
  },
  {
   "cell_type": "code",
   "execution_count": null,
   "id": "d109cf0f",
   "metadata": {},
   "outputs": [],
   "source": []
  }
 ],
 "metadata": {
  "kernelspec": {
   "display_name": "dev",
   "language": "python",
   "name": "dev"
  },
  "language_info": {
   "codemirror_mode": {
    "name": "ipython",
    "version": 3
   },
   "file_extension": ".py",
   "mimetype": "text/x-python",
   "name": "python",
   "nbconvert_exporter": "python",
   "pygments_lexer": "ipython3",
   "version": "3.7.11"
  }
 },
 "nbformat": 4,
 "nbformat_minor": 5
}
