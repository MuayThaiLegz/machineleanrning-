{
 "cells": [
  {
   "cell_type": "code",
   "execution_count": 24,
   "id": "8b613425",
   "metadata": {},
   "outputs": [],
   "source": [
    "import warnings\n",
    "warnings.filterwarnings('ignore')\n"
   ]
  },
  {
   "cell_type": "code",
   "execution_count": 38,
   "id": "a6a4ae37",
   "metadata": {},
   "outputs": [],
   "source": [
    "from pandas.plotting import scatter_matrix\n",
    "\n",
    "%matplotlib inline\n",
    "import numpy as np\n",
    "import datetime\n",
    "import matplotlib as mpl \n",
    "import matplotlib.pyplot as plt\n",
    "import seaborn as sns\n",
    "sns.set_theme()\n",
    "from sklearn.datasets import make_blobs\n",
    "import pandas as pd\n",
    "import hvplot.pandas\n",
    "from sklearn.cluster import KMeans\n",
    "from sklearn.decomposition import PCA\n",
    "from sklearn.linear_model import LinearRegression\n",
    "from sklearn.tree import DecisionTreeRegressor\n",
    "from sklearn import preprocessing\n",
    "from sklearn import utils\n",
    "\n",
    "from pylab import mpl, plt\n",
    "import datetime\n",
    "import tensorflow as tf\n",
    "from tensorflow import keras\n",
    "pd.set_option('display.max_rows', 2000)\n",
    "pd.set_option('display.max_columns', 2000)\n",
    "pd.set_option('display.width', 1000)"
   ]
  },
  {
   "cell_type": "code",
   "execution_count": 39,
   "id": "e8b19a6e",
   "metadata": {},
   "outputs": [],
   "source": [
    "from tensorflow.keras.datasets import mnist \n",
    "\n",
    "\n",
    "(train_images, train_labels), (test_images, test_labels) = mnist.load_data()"
   ]
  },
  {
   "cell_type": "code",
   "execution_count": 40,
   "id": "92ea692d",
   "metadata": {},
   "outputs": [
    {
     "data": {
      "text/plain": [
       "(60000, 28, 28)"
      ]
     },
     "metadata": {},
     "output_type": "display_data"
    },
    {
     "data": {
      "text/plain": [
       "60000"
      ]
     },
     "metadata": {},
     "output_type": "display_data"
    },
    {
     "data": {
      "text/plain": [
       "(10000, 28, 28)"
      ]
     },
     "metadata": {},
     "output_type": "display_data"
    },
    {
     "data": {
      "text/plain": [
       "10000"
      ]
     },
     "metadata": {},
     "output_type": "display_data"
    },
    {
     "data": {
      "text/plain": [
       "array([7, 2, 1, ..., 4, 5, 6], dtype=uint8)"
      ]
     },
     "metadata": {},
     "output_type": "display_data"
    }
   ],
   "source": [
    "\"\"\"\n",
    "train_images and train_labels form the training set, the data that the model will learn from.\n",
    "The Model will be tested on the test set, test_images and test_labels.\n",
    "\n",
    "The images are encoded as np arrays, and the labels are an array of digits, ranging from 0:9\n",
    "Images and labels have a one-to-one correspondence\n",
    "\n",
    "\"\"\"\n",
    "\n",
    "display(train_images.shape)\n",
    "\n",
    "display(len(train_labels))\n",
    "\n",
    "display(test_images.shape)\n",
    "\n",
    "display(len(test_labels))\n",
    "\n",
    "display(test_labels)"
   ]
  },
  {
   "cell_type": "code",
   "execution_count": 41,
   "id": "ac27759e",
   "metadata": {},
   "outputs": [],
   "source": [
    "\"\"\"\n",
    "# The network architecture.\n",
    "The core building block of neural networks is the layer, a data-processing module that you can think of as a filter for data\n",
    "Data does in and comes out in a more usefull form. Layers extract representations out of the data fed into them.\n",
    "Most deep learning consists of chaining together simple layers that will implement a for, of progressive data distillation.\n",
    "\n",
    "\n",
    "\"\"\"\n",
    "\n",
    "\n",
    "from tensorflow.keras import models \n",
    "from tensorflow.keras import layers\n",
    "\n",
    "network = models.Sequential()\n",
    "\n",
    "\n",
    "# dense|fully connected neural layer. \n",
    "network.add(layers.Dense(512, activation='relu', input_shape=(28 * 28,)))\n",
    "# a 10-way layer, will return an array of 10 probabikity scores summing to 1.\n",
    "network.add(layers.Dense(10, activation='softmax'))"
   ]
  },
  {
   "cell_type": "code",
   "execution_count": 42,
   "id": "34166bbf",
   "metadata": {},
   "outputs": [],
   "source": [
    "\"\"\"\n",
    "To make the network ready for training, we need to pick three more things, as part \n",
    "of the compilation step:\n",
    "\n",
    "* A loss function -- How the network will be able to measure its performance on the training data, and thus how it will \n",
    "    be able to steer itself in the right direction.\n",
    "\n",
    "* An optimizer -- The mechanism through which the network updates itself based on the data it sees and its loss function\n",
    "\n",
    "* Metrics to monitor during training and testing -- Here, we'll only care about accuracy.\n",
    "    (fraction of images correctly classified).\n",
    "    \n",
    "\"\"\"\n",
    "\n",
    "\n",
    "network.compile(optimizer='rmsprop',\n",
    "               loss='categorical_crossentropy',\n",
    "               metrics=['accuracy'])"
   ]
  },
  {
   "cell_type": "code",
   "execution_count": 43,
   "id": "72eca869",
   "metadata": {},
   "outputs": [],
   "source": [
    "\"\"\"\n",
    "Before training, we'll preprocess the data by reshaping it into the shape the network expects and scaling it\n",
    "so the all values are in the [0, 1] interval. Previosly, our training images, for instance,\n",
    "were stored in an array of shape (60000, 28, 28) of type uint8 with values in the [0, 255] interval.\n",
    "We transform it into a float32 array of shape (60000. 28 * 28) with values between 0 and 1.\n",
    "\"\"\"\n",
    "\n",
    "train_images = train_images.reshape((60000, 28 * 28))\n",
    "\n",
    "train_images = train_images.astype('float') / 255"
   ]
  },
  {
   "cell_type": "code",
   "execution_count": 44,
   "id": "dbbf5b78",
   "metadata": {},
   "outputs": [],
   "source": [
    "test_images = test_images.reshape((10000, 28 * 28))\n",
    "\n",
    "test_images = test_images.astype('float') / 255"
   ]
  },
  {
   "cell_type": "code",
   "execution_count": 47,
   "id": "9c175296",
   "metadata": {},
   "outputs": [],
   "source": [
    "# We also need to categorically encode the labels\n",
    "\n",
    "from tensorflow.keras.utils import to_categorical\n",
    "\n",
    "\n",
    "train_labels = to_categorical(train_labels)\n",
    "\n",
    "test_labels = to_categorical(test_labels)"
   ]
  },
  {
   "cell_type": "code",
   "execution_count": 48,
   "id": "f3fa05a6",
   "metadata": {},
   "outputs": [
    {
     "name": "stdout",
     "output_type": "stream",
     "text": [
      "Train on 60000 samples\n",
      "Epoch 1/10\n",
      "60000/60000 [==============================] - 2s 38us/sample - loss: 0.2586 - acc: 0.9258\n",
      "Epoch 2/10\n",
      "60000/60000 [==============================] - 2s 37us/sample - loss: 0.1044 - acc: 0.9691\n",
      "Epoch 3/10\n",
      "60000/60000 [==============================] - 2s 39us/sample - loss: 0.0694 - acc: 0.9796\n",
      "Epoch 4/10\n",
      "60000/60000 [==============================] - 2s 36us/sample - loss: 0.0499 - acc: 0.9849\n",
      "Epoch 5/10\n",
      "60000/60000 [==============================] - 2s 35us/sample - loss: 0.0381 - acc: 0.9883\n",
      "Epoch 6/10\n",
      "60000/60000 [==============================] - 2s 35us/sample - loss: 0.0293 - acc: 0.9914\n",
      "Epoch 7/10\n",
      "60000/60000 [==============================] - 2s 36us/sample - loss: 0.0225 - acc: 0.9936\n",
      "Epoch 8/10\n",
      "60000/60000 [==============================] - 2s 39us/sample - loss: 0.0170 - acc: 0.9952\n",
      "Epoch 9/10\n",
      "60000/60000 [==============================] - 2s 35us/sample - loss: 0.0132 - acc: 0.9961\n",
      "Epoch 10/10\n",
      "60000/60000 [==============================] - 2s 39us/sample - loss: 0.0105 - acc: 0.9971\n"
     ]
    },
    {
     "data": {
      "text/plain": [
       "<tensorflow.python.keras.callbacks.History at 0x1b9cab13ac8>"
      ]
     },
     "execution_count": 48,
     "metadata": {},
     "output_type": "execute_result"
    }
   ],
   "source": [
    "# We are now ready to train the network which in keras is done via a call to the networks fir metthod.\n",
    "# We fit the model to its training data\n",
    "\n",
    "network.fit(train_images, train_labels,epochs=10, batch_size=128)"
   ]
  },
  {
   "cell_type": "code",
   "execution_count": 49,
   "id": "33f34431",
   "metadata": {},
   "outputs": [
    {
     "name": "stdout",
     "output_type": "stream",
     "text": [
      "10000/10000 [==============================] - 0s 18us/sample - loss: 0.0737 - acc: 0.9815\n",
      "test_acc: 0.9815\n"
     ]
    }
   ],
   "source": [
    "\"\"\"\n",
    "Two quantities are displayed during training: the loss of the network over the training data,\n",
    "and the accuracy of the network over the training data.\n",
    "\n",
    "\n",
    "Let's check that the model performs well on the test set, too:\n",
    "\"\"\"\n",
    "\n",
    "test_loss, test_acc = network.evaluate(test_images, test_labels)\n",
    "\n",
    "print('test_acc:',  test_acc)\n"
   ]
  },
  {
   "cell_type": "code",
   "execution_count": null,
   "id": "9767be3c",
   "metadata": {},
   "outputs": [],
   "source": []
  },
  {
   "cell_type": "code",
   "execution_count": null,
   "id": "5bc6cf8d",
   "metadata": {},
   "outputs": [],
   "source": []
  },
  {
   "cell_type": "code",
   "execution_count": 59,
   "id": "5531f17a",
   "metadata": {},
   "outputs": [
    {
     "data": {
      "text/plain": [
       "array(12)"
      ]
     },
     "metadata": {},
     "output_type": "display_data"
    },
    {
     "data": {
      "text/plain": [
       "0"
      ]
     },
     "metadata": {},
     "output_type": "display_data"
    },
    {
     "data": {
      "text/plain": [
       "array([12,  3,  6, 14])"
      ]
     },
     "metadata": {},
     "output_type": "display_data"
    },
    {
     "data": {
      "text/plain": [
       "1"
      ]
     },
     "metadata": {},
     "output_type": "display_data"
    },
    {
     "data": {
      "text/plain": [
       "array([[ 5, 78,  2, 34,  0],\n",
       "       [ 6, 79,  3, 35,  1],\n",
       "       [ 7, 80,  4, 36,  2]])"
      ]
     },
     "metadata": {},
     "output_type": "display_data"
    },
    {
     "data": {
      "text/plain": [
       "2"
      ]
     },
     "metadata": {},
     "output_type": "display_data"
    },
    {
     "data": {
      "text/plain": [
       "array([[list([5, 78, 2, 34, 0]), list([6, 79, 3, 35, 1]),\n",
       "        list([7, 80, 4, 36, 2])],\n",
       "       [list([5, 78, 2, 34, 0]),\n",
       "        list([6, 79, 3, 35, 1, [7, 80, 4, 36, 2]]),\n",
       "        list([[5, 78, 2, 34, 0], [6, 79, 3, 35, 1], [7, 80, 4, 36, 2]])]],\n",
       "      dtype=object)"
      ]
     },
     "metadata": {},
     "output_type": "display_data"
    }
   ],
   "source": [
    "\"\"\"\n",
    "# Data representaions for neural networks\n",
    "In general, all current machine learning systems use tensors as their basic data structure. \n",
    "\n",
    "Tensor: at its core, a tensor is a container for data-- almost always numerical data. So, it's a container for numbers.\n",
    "Matrices are2d tensors; tensors are a generelization of matrices to an arbitrary number of dimensions.\n",
    "(note that in the context of tensors, a dimension is often called an axis)\n",
    "\n",
    "\n",
    "\n",
    "# Scalars (OD tensors)\n",
    "A tensor that contains only one number is called a scalar(or scalar tensor, or 0-dimensional tensor, or 0D tensor). In Numpy\n",
    "a float32 or float64 number is a scalar tensor (or scalar array). You can display the number of axes of a numpy tensor viaa\n",
    "the ndim attribute; a scalar tensor has 0 axes (nim == 0).The number of axes of a tensor is also called its rank.\n",
    "\n",
    "\"\"\"\n",
    "\n",
    "x = np.array(12)\n",
    "\n",
    "display(x)\n",
    "\n",
    "display(x.ndim)\n",
    "\n",
    "# Vectors (1d tensors)\n",
    "# An array of numbers is called a vector, or 1d tensor. A 1d tensor is said to hace exactly one axis\n",
    "\n",
    "xx= np.array([12, 3, 6, 14])\n",
    "\n",
    "display(xx)\n",
    "\n",
    "display(xx.ndim)\n",
    "\n",
    "# This vector has five entries and so is called a 5-dimensional vector. Dont confuse a 5d vector with a 5d tesnor!\n",
    "# A 5d vector has only one axis and has five dimensions along its axis,\n",
    "# A 5d tensor has five axes (and may have any number of dimensions along each axis)\n",
    "# Dimensionality can denote either the number of entries along a specific axis(as in case of 5d vector)\n",
    "# or the umber of axes in a tensor (such as in a 5d tensor), \n",
    "\n",
    "# Matrices (2D tensors)\n",
    "\n",
    "# An array of vectors is a matrix, or 2d tensor. A matrix has two axes (often referred to rows and colunms).\n",
    "# you can visulaly interpert a matrix a as a rectangular grid of numbers.\n",
    "\n",
    "x_ma = np.array([[5, 78, 2, 34, 0],\n",
    "                [6, 79, 3, 35, 1],\n",
    "                [7, 80, 4, 36, 2]])\n",
    "\n",
    "display(x_ma)\n",
    "\n",
    "display(x_ma.ndim)\n",
    "\n",
    "# 3D tensors and higer dimensional tensors\n",
    "\n",
    "# if you pack such matrices into a new array, you obtain a 3d tensor\n",
    "\n",
    "xDDD = np.array([[[5, 78, 2, 34, 0],\n",
    "                 [6, 79, 3, 35, 1],\n",
    "                 [7, 80, 4, 36, 2]],\n",
    "                [[5, 78, 2, 34, 0],\n",
    "                 [6, 79, 3, 35, 1,\n",
    "                 [7, 80, 4, 36, 2]],\n",
    "                [[5, 78, 2, 34, 0],\n",
    "                 [6, 79, 3, 35, 1],\n",
    "                 [7, 80, 4, 36, 2]]]])\n",
    "\n",
    "display(xDDD)"
   ]
  },
  {
   "cell_type": "code",
   "execution_count": 66,
   "id": "9dea01aa",
   "metadata": {},
   "outputs": [
    {
     "data": {
      "image/png": "[encoded data removed]",
      "text/plain": [
       "<Figure size 432x288 with 1 Axes>"
      ]
     },
     "metadata": {},
     "output_type": "display_data"
    }
   ],
   "source": [
    "\"\"\"\n",
    "# Key attributes: A tensor is defined by three key atrributes:\n",
    "\n",
    "* Number of axes (rank) - For instance, a 3D tensor has three axes, and a matrix has two axes.\n",
    "This is also called the tensor's ndim.\n",
    "\n",
    "* Shape - This is a tubple of intergers that describes how many dimensions the tensor has along each axis.\n",
    "For instance, the previous matrix example has shape (3, 5), and the 3D tensor example has shape (3, 3, 5).\n",
    "A vector has s shape with s single element, such as (5,), whereas a scalar has en empty shape,().\n",
    "\n",
    "* Data type (usually called dtype in py libs) - This is the type of the data caontained in the tensor; for instancce,\n",
    "a tensor;s type could be float32, uint8, and so on. \n",
    "\n",
    "NOTE - Strings dont live in preallocated, contiguous momoey segments:\n",
    "    and strings, being variable length, would preclude the use of this implementaion.\n",
    "\n",
    "\"\"\"\n",
    "\n",
    "from tensorflow.keras.datasets import mnist \n",
    "\n",
    "\n",
    "(train_images, train_labels), (test_images, test_labels) = mnist.load_data()\n",
    "\n",
    "# displaying image\n",
    "\n",
    "digit = train_images[4]\n",
    "\n",
    "\n",
    "plt.imshow(digit, cmap=plt.cm.binary)\n",
    "\n",
    "plt.show()"
   ]
  },
  {
   "cell_type": "code",
   "execution_count": null,
   "id": "3c8eb6ab",
   "metadata": {},
   "outputs": [],
   "source": [
    "\"\"\"\n",
    "# Manipulation of tensors in Numpy:\n",
    "Selecting specific elements in a tensor is called tensor slicing.\n",
    "The tensor-slicing operations you can do on Numpy arrays\n",
    "\"\"\"\n",
    "\n",
    "# selects digits #10 to #100 (#100 is not included) puts them in an array shape (90, 28, 28)\n",
    "\n",
    "my_slice = train_images[10:100]\n",
    "\n",
    "print(my_slice.shape)\n",
    "\n",
    "# Equivalnnet \n",
    "\n",
    "my_slice_eq = train_images[10:100, :, :]\n",
    "\n",
    "display(my_slice_eq.shape)\n",
    "\n",
    "# also rquvialent to the previous example \n",
    "\n",
    "my_slice_22 = train_images[10:100, 0:28, 0:28]\n",
    "\n",
    "display(my_slice_22.shape)\n",
    "\n",
    "\n",
    "# select betwwen any two indices along each tensor axis. To selelect 14 x 14 pixels centered in the middle, you do this:\n",
    "\n",
    "myslice = train_images[:, 7:-7, 7:-7]\n",
    "\n",
    "plt.imshow(myslice[9], cmap=plt.cm.binary)\n",
    "\n",
    "plt.show()\n",
    "\n",
    "# The notion of data batches: In general, the first axis )axis 0, because indexing starts at 0) in all data tensors you'll \n",
    "# come across in deep learning will be the samples aaxis (the samples dimension) \n",
    "# deep learning model doent process an entire daset at once; rather, they break the data into small batches.\n",
    "# Concretely, here's one batch of our MNIST digits, with batch size of 218:\n",
    "\n",
    "batch = train_images[:128]\n",
    "\n",
    "# And here's the next batch:\n",
    "\n",
    "batchDos = train_images[128:256]\n",
    "\n",
    "# and the nth batch:\n",
    "\n",
    "#batchN = train_images[128 * n:128 * (n + 1)]\n",
    "\n",
    "# display(batchN)"
   ]
  },
  {
   "cell_type": "code",
   "execution_count": 86,
   "id": "d109cf0f",
   "metadata": {},
   "outputs": [
    {
     "name": "stdout",
     "output_type": "stream",
     "text": [
      "(90, 28, 28)\n"
     ]
    },
    {
     "data": {
      "text/plain": [
       "(90, 28, 28)"
      ]
     },
     "metadata": {},
     "output_type": "display_data"
    },
    {
     "data": {
      "text/plain": [
       "(90, 28, 28)"
      ]
     },
     "metadata": {},
     "output_type": "display_data"
    },
    {
     "data": {
      "image/png": "[encoded data removed]",
      "text/plain": [
       "<Figure size 432x288 with 1 Axes>"
      ]
     },
     "metadata": {},
     "output_type": "display_data"
    }
   ],
   "source": [
    "# When considering such a batch tensor, the first axis (axis 0) is called the batch axis or batch dimension.\n",
    "# This is a term you'll  frequently encounter when using Keras and other deep-learning-libraries.\n",
    "\n",
    "# Real-world examples of data tensors\n",
    "# Data you'll manipulate will almost always fall into one of the following categories:\n",
    "\n",
    "# Vector data - 2D tensors of shape (sample, features)\n",
    "\n",
    "# Time series data or sequence data - 3D tensors of shape (samples, timesteps, features)\n",
    "\n",
    "#Images - 4D tesnors of shape (samples, height, width, channels) or (samples, channels, height, width)\n",
    "\n",
    "# Video - 5D tensors of shape (samples, frames, height, width, channels) or (samples, frames, channels, height, width)\n",
    "\n",
    "# Vector data \n"
   ]
  },
  {
   "cell_type": "code",
   "execution_count": 87,
   "id": "5474a39b",
   "metadata": {},
   "outputs": [],
   "source": [
    "def naiave_relu(x):\n",
    "    assert len(x.shape) ==2\n",
    "    \n",
    "    x = x.copy\n",
    "    for i in range(x.shape[0]):\n",
    "        for j in range(x.shape[1]):\n",
    "            x[i, j] = max(x[i, j], 0)\n",
    "    return x"
   ]
  },
  {
   "cell_type": "code",
   "execution_count": 88,
   "id": "40beefda",
   "metadata": {},
   "outputs": [],
   "source": [
    "def naive_add(x, y):\n",
    "    assert len(x.shape) == 2\n",
    "    assert x.shape == y.shape\n",
    "    \n",
    "    x = x.copy()\n",
    "    for i in range(x.shape[0]):\n",
    "        for j in range(x.shape(x.shape[1])):\n",
    "            x[i, j] += y[i, j]\n",
    "    return x\n"
   ]
  },
  {
   "cell_type": "code",
   "execution_count": 89,
   "id": "9a0e3f7b",
   "metadata": {},
   "outputs": [
    {
     "ename": "NameError",
     "evalue": "name 'y' is not defined",
     "output_type": "error",
     "traceback": [
      "\u001b[1;31m---------------------------------------------------------------------------\u001b[0m",
      "\u001b[1;31mNameError\u001b[0m                                 Traceback (most recent call last)",
      "\u001b[1;32m~\\AppData\\Local\\Temp/ipykernel_63700/4115161775.py\u001b[0m in \u001b[0;36m<module>\u001b[1;34m\u001b[0m\n\u001b[1;32m----> 1\u001b[1;33m \u001b[0mz\u001b[0m \u001b[1;33m=\u001b[0m \u001b[0mx\u001b[0m \u001b[1;33m+\u001b[0m \u001b[0my\u001b[0m  \u001b[1;31m# Element-wise addition\u001b[0m\u001b[1;33m\u001b[0m\u001b[1;33m\u001b[0m\u001b[0m\n\u001b[0m\u001b[0;32m      2\u001b[0m \u001b[0mz\u001b[0m \u001b[1;33m=\u001b[0m \u001b[0mnp\u001b[0m\u001b[1;33m.\u001b[0m\u001b[0mmaximum\u001b[0m\u001b[1;33m(\u001b[0m\u001b[0mz\u001b[0m\u001b[1;33m,\u001b[0m \u001b[1;36m0.\u001b[0m\u001b[1;33m)\u001b[0m\u001b[1;33m\u001b[0m\u001b[1;33m\u001b[0m\u001b[0m\n",
      "\u001b[1;31mNameError\u001b[0m: name 'y' is not defined"
     ]
    }
   ],
   "source": [
    "#z = x + y  # Element-wise addition\n",
    "#z = np.maximum(z, 0.)"
   ]
  },
  {
   "cell_type": "code",
   "execution_count": 91,
   "id": "a73846ed",
   "metadata": {},
   "outputs": [],
   "source": [
    "def naive_add_matrix_and_vecotr(x, y):\n",
    "    assert len(x.shape) == 2 # x is a 2d Numpy tensor \n",
    "    assert len(y.shape) == 1 # y is a numpy vector\n",
    "    assert x.shape[1] == y.shape[0]\n",
    "    \n",
    "    x = x.copy() # Avoid oversriting the input tesor\n",
    "    for i in range(x.shape[0]):\n",
    "        for j in range(x.shape[1]):\n",
    "            x[i, j] += y[i]\n",
    "    \n",
    "    return x\n"
   ]
  },
  {
   "cell_type": "code",
   "execution_count": 100,
   "id": "579bd394",
   "metadata": {},
   "outputs": [
    {
     "data": {
      "text/plain": [
       "array([0.75075778, 0.7235887 , 0.69396748, 0.32392544, 0.73920156,\n",
       "       0.3277758 , 0.30852156, 0.98417978, 0.48482687, 0.60765964])"
      ]
     },
     "metadata": {},
     "output_type": "display_data"
    }
   ],
   "source": [
    "\"\"\"\n",
    "With broadcasting, you can genrally apply two-tensor element-wise oprations if one tensor has shape\n",
    "(a, b, ... n , n + 1, ...m) and the other shape (n, n + 1, .. m).\n",
    "the broadcasting will then automatically happen for axes a through n -1.\n",
    "    The following example applies the element-wise maximum operaion to two tensors of different shapes via broadcasting:\n",
    "\"\"\"\n",
    "\n",
    "x = np.random.random((64, 3, 32, 10)) # x is a random tensor with shape (54, 3, 32, 10)\n",
    "\n",
    "y = np.random.random((32, 10)) # y is a random tensor with shape (32, 10)\n",
    "\n",
    "z = np.maximum(x, y)  # The output z has shape (64, 3, 32, 10) like x\n",
    "\n",
    "display(z[0][0][0])\n",
    "\n"
   ]
  },
  {
   "cell_type": "code",
   "execution_count": 104,
   "id": "340d4ffb",
   "metadata": {},
   "outputs": [],
   "source": [
    "\"\"\"\n",
    "Tensor dot: The dot operation, also called a tensor product (not to be confused with an element-wise product)\n",
    "is the most common, most useful tensor operation. Contray to elemnt-wise operations,\n",
    "it combines entries in the input tensors. An element-wise product is done with the * operator in Numpy, Keras, Theano & Tf.\n",
    "dot uses a diffrent syntax in tf, but in both numpy and keras its done using the standard dot operator\n",
    "\"\"\"\n",
    "x = 5 \n",
    "y = 4\n",
    "\n",
    "z = np.dot(x, y)\n",
    "\n",
    "#z = x . y\n",
    "\n",
    "# In mathematical notation, you'd note the operation with a dot (.):\n",
    "\n",
    "def naive_vector_dot(x, y):\n",
    "    assert len(x.shape) == 1 \n",
    "    assert len(y.shape) == 1 \n",
    "    assert x.shape[0] == y.shape[0]\n",
    "    z = 0 \n",
    "    for i in range(x.range[0]):\n",
    "        x += x[i] * y[i]\n",
    "    return z\n",
    "    "
   ]
  },
  {
   "cell_type": "code",
   "execution_count": null,
   "id": "cbf16f61",
   "metadata": {},
   "outputs": [],
   "source": [
    "\"\"\"\n",
    "# Tensor reshaping:\n",
    "A third type of tensor operation that's essential to understand is tensor reshaping>\n",
    "Used when we preprocess digit data before feeding it our network:\n",
    "\"\"\"\n",
    "\n",
    "# train_images = train_images.reshape((60000, 28 * 28))\n",
    "\n",
    "x = np.array([[0., 1.],\n",
    "              [2., 3.],\n",
    "              [4., 5.]])\n",
    "\n",
    "display(x.shape)\n",
    "\n",
    "xx = x.reshape((6, 1))\n",
    "\n",
    "display(xx)\n",
    "\n",
    "xxx = x.reshape((2, 3))\n",
    "\n",
    "display(xxx)"
   ]
  },
  {
   "cell_type": "code",
   "execution_count": 111,
   "id": "1866245e",
   "metadata": {},
   "outputs": [
    {
     "name": "stdout",
     "output_type": "stream",
     "text": [
      "(20, 300)\n"
     ]
    }
   ],
   "source": [
    "# A special case of reshaping that's commonly encountered is transposition. Transposing a matrix means exchanging its rows\n",
    "# and its columns, so that x[i, :]: becomes x[:, i]:\n",
    "\n",
    "x = np.zeros((300, 20))\n",
    "\n",
    "x = np.transpose(x)\n",
    "\n",
    "print(x.shape)"
   ]
  },
  {
   "cell_type": "code",
   "execution_count": null,
   "id": "0d47b06b",
   "metadata": {},
   "outputs": [],
   "source": []
  },
  {
   "cell_type": "code",
   "execution_count": 114,
   "id": "67671fe5",
   "metadata": {},
   "outputs": [],
   "source": [
    "# Chapter 3 Getting started with neural networks\n",
    "\n",
    "from tensorflow.keras import layers \n",
    "\n",
    "layer = layers.Dense(32, input_shape=(784,))"
   ]
  },
  {
   "cell_type": "code",
   "execution_count": 125,
   "id": "70a0eb60",
   "metadata": {},
   "outputs": [],
   "source": [
    "mod = models.Sequential()\n",
    "\n",
    "mod.add(layers.Dense(32,\n",
    "                     activation= 'relu',\n",
    "                     input_shape=(784,)))\n",
    "\n",
    "mod.add(layers.Dense(10,\n",
    "                     activation='softmax'))\n",
    "\n",
    "# and here's tje same model defined using the functional API:\n",
    "\n",
    "input_tensor = layers.Input(shape=(784,))\n",
    "x = layers.Dense(32, activation='relu') (input_tensor)\n",
    "output_tensor = layers.Dense(10,activation='softmax')(x)\n",
    "model = models.Model(inputs=input_tensor, outputs=output_tensor)\n",
    "\n",
    "# Once architecture is made it doesnt matter whether you used a sequential mod or func api. All next steps are the same.\n",
    "# The learning process is configured in the complitation step. where you specify the optimiser and loss fucntion(s)\n",
    "# that the model should usem as well as the mstrrics you want to monitor during training.\n",
    "\n",
    "from tensorflow.keras import optimizers\n",
    "\n",
    "mod.compile(optimizer = optimizers.RMSprop(lr=0.001),\n",
    "                  loss='mse',\n",
    "                  metrics=['accuracy'])\n",
    "\n",
    "# the learning process consists of passing Numpy arrays of imput data (and the correspinging target data) to the model via fit()\n",
    "\n",
    "# mod.fit(input_tensor, output_tensor, batch_size=128, epochs=10)\n",
    "\n"
   ]
  },
  {
   "cell_type": "code",
   "execution_count": null,
   "id": "25894cce",
   "metadata": {},
   "outputs": [],
   "source": []
  }
 ],
 "metadata": {
  "kernelspec": {
   "display_name": "dev",
   "language": "python",
   "name": "dev"
  },
  "language_info": {
   "codemirror_mode": {
    "name": "ipython",
    "version": 3
   },
   "file_extension": ".py",
   "mimetype": "text/x-python",
   "name": "python",
   "nbconvert_exporter": "python",
   "pygments_lexer": "ipython3",
   "version": "3.7.11"
  }
 },
 "nbformat": 4,
 "nbformat_minor": 5
}
