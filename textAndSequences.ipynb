{
 "cells": [
  {
   "cell_type": "code",
   "execution_count": 3,
   "id": "4a761f39",
   "metadata": {},
   "outputs": [],
   "source": [
    "\"\"\"\n",
    "Deep learning for text and sequences: This chapter covers,\n",
    "    * Preprocessing text data into useful representations.\n",
    "    * Working with recurrent neural networks.\n",
    "    * Using 1D convnets for sequence processing\n",
    "    \n",
    "    Like all other neural networks, deep-learning models dont take as input raw text:\n",
    "    They only work with words, and transform each word into a vector.\n",
    "    Vectorizing test is the process of tranforming text into numeric tensors. Do this by:\n",
    "        * Segment text into words, and transform each word into a vector.\n",
    "        * Segment text intop characters, and transform each character into a vector.\n",
    "        * Extract n-grams of words or charactrers, and tranform each n-grams into a vector.\n",
    "            N-grams are overlapping graoups of multiple consecutive words or chrs.\n",
    "\"\"\"\n",
    "\n",
    "# One-hot encoding of words and charcters\n",
    "\n",
    "import numpy as np \n",
    "\n",
    "samples = ['The cat sat on the may.', 'The dog ate my homework.']\n",
    "\n",
    "\n",
    "token_index = {}\n",
    "\n",
    "for sample in samples:\n",
    "    for word in sample.split():\n",
    "        if word not in token_index:\n",
    "            token_index[word] = len(token_index) + 1\n",
    "max_legth = 10\n",
    "\n",
    "results = np.zeros(shape=(len(samples),\n",
    "                          max_legth,\n",
    "                          max(token_index.values()) + 1 ))\n",
    "for i, sample in enumerate(samples):\n",
    "    for j, word in list(enumerate(sample.split()))[:max_legth]:\n",
    "        index = token_index.get(word)\n",
    "        results[i, j, index] = 1\n",
    "\n"
   ]
  },
  {
   "cell_type": "code",
   "execution_count": 5,
   "id": "c469b2d4",
   "metadata": {},
   "outputs": [],
   "source": [
    "# Character-level one-hot encoding (toy example)\n",
    "\n",
    "import string \n",
    "\n",
    "samples = ['The cat sat on the mat.', 'The dog ate my homework.']\n",
    "\n",
    "characters = string.printable\n",
    "token_index = dict(zip(range(1, len(characters) + 1), characters))\n",
    "\n",
    "max_legth = 50 \n",
    "\n",
    "results = np.zeros((len(samples), max_legth, max(token_index.keys()) + 1))\n",
    "for i, sample in enumerate(samples):\n",
    "    for j, characters in enumerate(sample):\n",
    "        index = token_index.get(characters)\n",
    "        results[i, j, index] =1"
   ]
  },
  {
   "cell_type": "code",
   "execution_count": 7,
   "id": "5bff46eb",
   "metadata": {},
   "outputs": [
    {
     "name": "stdout",
     "output_type": "stream",
     "text": [
      "Found 9 unique tokens.\n"
     ]
    }
   ],
   "source": [
    "# Using Keras for word-level one-hot ecoding\n",
    "\n",
    "from tensorflow.keras.preprocessing.text import Tokenizer\n",
    "\n",
    "samples = ['The cat sat on the mat.', 'The dog ate my homework.']\n",
    "\n",
    "tokenizer = Tokenizer(num_words=1000)\n",
    "tokenizer.fit_on_texts(samples)\n",
    "\n",
    "sequences = tokenizer.texts_to_sequences(samples)\n",
    "\n",
    "one_hot_results = tokenizer.texts_to_matrix(samples, mode='binary')\n",
    "\n",
    "word_index = tokenizer.word_index\n",
    "\n",
    "print('Found %s unique tokens.' % len(word_index))\n",
    "\n"
   ]
  },
  {
   "cell_type": "code",
   "execution_count": 9,
   "id": "311acde6",
   "metadata": {},
   "outputs": [],
   "source": [
    "# word-level one-hot encoding with hashing trick (toy example)\n",
    "\n",
    "samples = ['The cat set on the mat.', 'The dog ate my homework.']\n",
    "\n",
    "dismensionatily = 1000\n",
    "max_lenght = 10 \n",
    "\n",
    "results = np.zeros((len(samples), max_legth, dismensionatily))\n",
    "\n",
    "for i, sample in enumerate(samples):\n",
    "    for j, word in list(enumerate(sample.split()))[:max_lenght]:\n",
    "        index = abs(hash(word)) % dismensionatily\n",
    "        results[i,j, index] = 1\n"
   ]
  },
  {
   "cell_type": "code",
   "execution_count": null,
   "id": "9950e72e",
   "metadata": {},
   "outputs": [],
   "source": []
  }
 ],
 "metadata": {
  "kernelspec": {
   "display_name": "dev",
   "language": "python",
   "name": "dev"
  },
  "language_info": {
   "codemirror_mode": {
    "name": "ipython",
    "version": 3
   },
   "file_extension": ".py",
   "mimetype": "text/x-python",
   "name": "python",
   "nbconvert_exporter": "python",
   "pygments_lexer": "ipython3",
   "version": "3.7.11"
  }
 },
 "nbformat": 4,
 "nbformat_minor": 5
}
